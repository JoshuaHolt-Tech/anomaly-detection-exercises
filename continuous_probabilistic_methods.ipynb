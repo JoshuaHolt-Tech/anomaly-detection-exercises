{
 "cells": [
  {
   "cell_type": "code",
   "execution_count": 1,
   "id": "81e11e5f-ee0b-489d-855f-8bb0fbcf5fbb",
   "metadata": {},
   "outputs": [],
   "source": [
    "import pandas as pd\n",
    "import numpy as np\n",
    "import matplotlib.pyplot as plt\n",
    "import seaborn as sns"
   ]
  },
  {
   "cell_type": "code",
   "execution_count": 2,
   "id": "40617dd8-987d-41ab-be25-2654546039aa",
   "metadata": {},
   "outputs": [],
   "source": [
    "def outlier_ejector(dataframe, column, k=1.5):\n",
    "    \"\"\"\n",
    "    This function takes in a dataframe and looks for upper and lower outliers.\n",
    "    \"\"\"\n",
    "    q1, q3  = dataframe[column].quantile(q=[0.25, 0.75])\n",
    "    iqr = q3 - q1\n",
    "    \n",
    "    \n",
    "    lower_bound = q1 - (k * iqr)\n",
    "    upper_bound = q3 + (k * iqr)\n",
    "    \n",
    "    high_items = dataframe[column] > upper_bound\n",
    "    low_items = dataframe[column] < lower_bound\n",
    "\n",
    "    \n",
    "    return dataframe[~low_items | ~high_items]"
   ]
  },
  {
   "cell_type": "code",
   "execution_count": 3,
   "id": "57aad86f-a832-4026-93f4-f5a3c8ff8178",
   "metadata": {},
   "outputs": [],
   "source": [
    "def outlier_detector(dataframe, col, k=1.5):\n",
    "    \"\"\"\n",
    "    This function takes in a dataframe and looks for upper and lower outliers.\n",
    "    \"\"\"\n",
    "    q1, q3  = dataframe[col].quantile(q=[0.25, 0.75])\n",
    "    iqr = q3 - q1\n",
    "    \n",
    "    \n",
    "    lower_bound = q1 - (k * iqr)\n",
    "    upper_bound = q3 + (k * iqr)\n",
    "    \n",
    "    high_items = dataframe[col] > upper_bound\n",
    "    low_items = dataframe[col] < lower_bound\n",
    "\n",
    "    \n",
    "    return dataframe[low_items | high_items]"
   ]
  },
  {
   "cell_type": "code",
   "execution_count": 4,
   "id": "1e1b028e-9493-41eb-8292-5c328b82e6d4",
   "metadata": {},
   "outputs": [],
   "source": [
    "df = pd.read_csv('lemonade.csv', infer_datetime_format=True, index_col='Date')"
   ]
  },
  {
   "cell_type": "code",
   "execution_count": 5,
   "id": "d6ecc71b-06b1-4075-bdcd-4ac046a74a7b",
   "metadata": {},
   "outputs": [
    {
     "data": {
      "text/html": [
       "<div>\n",
       "<style scoped>\n",
       "    .dataframe tbody tr th:only-of-type {\n",
       "        vertical-align: middle;\n",
       "    }\n",
       "\n",
       "    .dataframe tbody tr th {\n",
       "        vertical-align: top;\n",
       "    }\n",
       "\n",
       "    .dataframe thead th {\n",
       "        text-align: right;\n",
       "    }\n",
       "</style>\n",
       "<table border=\"1\" class=\"dataframe\">\n",
       "  <thead>\n",
       "    <tr style=\"text-align: right;\">\n",
       "      <th></th>\n",
       "      <th>Day</th>\n",
       "      <th>Temperature</th>\n",
       "      <th>Rainfall</th>\n",
       "      <th>Flyers</th>\n",
       "      <th>Price</th>\n",
       "      <th>Sales</th>\n",
       "    </tr>\n",
       "    <tr>\n",
       "      <th>Date</th>\n",
       "      <th></th>\n",
       "      <th></th>\n",
       "      <th></th>\n",
       "      <th></th>\n",
       "      <th></th>\n",
       "      <th></th>\n",
       "    </tr>\n",
       "  </thead>\n",
       "  <tbody>\n",
       "    <tr>\n",
       "      <th>1/1/17</th>\n",
       "      <td>Sunday</td>\n",
       "      <td>27.0</td>\n",
       "      <td>2.00</td>\n",
       "      <td>15</td>\n",
       "      <td>0.5</td>\n",
       "      <td>10</td>\n",
       "    </tr>\n",
       "    <tr>\n",
       "      <th>1/2/17</th>\n",
       "      <td>Monday</td>\n",
       "      <td>28.9</td>\n",
       "      <td>1.33</td>\n",
       "      <td>15</td>\n",
       "      <td>0.5</td>\n",
       "      <td>13</td>\n",
       "    </tr>\n",
       "    <tr>\n",
       "      <th>1/3/17</th>\n",
       "      <td>Tuesday</td>\n",
       "      <td>34.5</td>\n",
       "      <td>1.33</td>\n",
       "      <td>27</td>\n",
       "      <td>0.5</td>\n",
       "      <td>15</td>\n",
       "    </tr>\n",
       "    <tr>\n",
       "      <th>1/4/17</th>\n",
       "      <td>Wednesday</td>\n",
       "      <td>44.1</td>\n",
       "      <td>1.05</td>\n",
       "      <td>28</td>\n",
       "      <td>0.5</td>\n",
       "      <td>17</td>\n",
       "    </tr>\n",
       "    <tr>\n",
       "      <th>1/5/17</th>\n",
       "      <td>Thursday</td>\n",
       "      <td>42.4</td>\n",
       "      <td>1.00</td>\n",
       "      <td>33</td>\n",
       "      <td>0.5</td>\n",
       "      <td>18</td>\n",
       "    </tr>\n",
       "  </tbody>\n",
       "</table>\n",
       "</div>"
      ],
      "text/plain": [
       "              Day  Temperature  Rainfall  Flyers  Price  Sales\n",
       "Date                                                          \n",
       "1/1/17     Sunday         27.0      2.00      15    0.5     10\n",
       "1/2/17     Monday         28.9      1.33      15    0.5     13\n",
       "1/3/17    Tuesday         34.5      1.33      27    0.5     15\n",
       "1/4/17  Wednesday         44.1      1.05      28    0.5     17\n",
       "1/5/17   Thursday         42.4      1.00      33    0.5     18"
      ]
     },
     "execution_count": 5,
     "metadata": {},
     "output_type": "execute_result"
    }
   ],
   "source": [
    "df.head()"
   ]
  },
  {
   "cell_type": "markdown",
   "id": "d03c308e-abf1-4c82-bf02-b46b231aa94b",
   "metadata": {},
   "source": [
    "Using lemonade.csv dataset and focusing on continuous variables:\n",
    "\n",
    "- Use the IQR Range Rule and the upper and lower bounds to identify the lower outliers of each column of lemonade.csv, using the multiplier of 1.5. Do these lower outliers make sense? Which outliers should be kept?"
   ]
  },
  {
   "cell_type": "code",
   "execution_count": 12,
   "id": "f466c77c-deea-48fc-8168-71b08248e9a0",
   "metadata": {},
   "outputs": [
    {
     "name": "stdout",
     "output_type": "stream",
     "text": [
      "Temperature outliers\n",
      "               Day  Temperature  Rainfall  Flyers  Price  Sales\n",
      "Date                                                           \n",
      "2/11/17   Saturday        212.0      0.91      35    0.5     21\n",
      "12/31/17    Sunday         15.1      2.50       9    0.5      7\n",
      "----------------------------------------------------------------\n",
      "Rainfall outliers\n",
      "                Day  Temperature  Rainfall  Flyers  Price  Sales\n",
      "Date                                                            \n",
      "1/1/17       Sunday         27.0      2.00      15    0.5     10\n",
      "1/2/17       Monday         28.9      1.33      15    0.5     13\n",
      "1/3/17      Tuesday         34.5      1.33      27    0.5     15\n",
      "1/6/17       Friday         25.3      1.54      23    0.5     11\n",
      "1/7/17     Saturday         32.9      1.54      19    0.5     13\n",
      "1/11/17   Wednesday         32.6      1.54      23    0.5     12\n",
      "1/12/17    Thursday         38.2      1.33      16    0.5     14\n",
      "1/13/17      Friday         37.5      1.33      19    0.5     15\n",
      "1/16/17      Monday         30.6      1.67      24    0.5     12\n",
      "1/17/17     Tuesday         32.2      1.43      26    0.5     14\n",
      "1/20/17      Friday         31.6      1.43      20    0.5     12\n",
      "1/24/17     Tuesday         28.6      1.54      20    0.5     12\n",
      "1/28/17    Saturday         34.9      1.33      15    0.5     13\n",
      "1/29/17      Sunday         35.2      1.33      27    0.5     14\n",
      "12/4/17      Monday         34.9      1.54      16    0.5     13\n",
      "12/5/17     Tuesday         22.0      1.82      11    0.5     10\n",
      "12/9/17    Saturday         31.2      1.43      19    0.5     14\n",
      "12/10/17     Sunday         31.3      1.82      15    0.5     11\n",
      "12/12/17    Tuesday         33.5      1.33      22    0.5     15\n",
      "12/13/17  Wednesday         32.2      1.43      26    0.5     14\n",
      "12/14/17   Thursday         31.9      1.54      24    0.5     13\n",
      "12/17/17     Sunday         32.2      1.33      16    0.5     14\n",
      "12/18/17     Monday         30.9      1.43      27    0.5     13\n",
      "12/21/17   Thursday         40.5      1.33      23    0.5     15\n",
      "12/22/17     Friday         30.9      1.54      17    0.5     13\n",
      "12/26/17    Tuesday         28.9      1.43      23    0.5     13\n",
      "12/30/17   Saturday         30.9      1.43      22    0.5     13\n",
      "12/31/17     Sunday         15.1      2.50       9    0.5      7\n",
      "----------------------------------------------------------------\n",
      "Flyers outliers\n",
      "              Day  Temperature  Rainfall  Flyers  Price  Sales\n",
      "Date                                                          \n",
      "6/16/17    Friday         99.3      0.47      77    0.5     41\n",
      "7/14/17    Friday         92.0      0.50      80    0.5     40\n",
      "11/21/17  Tuesday         47.0      0.95     -38    0.5     20\n",
      "----------------------------------------------------------------\n",
      "Price outliers\n",
      "Empty DataFrame\n",
      "Columns: [Day, Temperature, Rainfall, Flyers, Price, Sales]\n",
      "Index: []\n",
      "----------------------------------------------------------------\n",
      "Sales outliers\n",
      "             Day  Temperature  Rainfall  Flyers  Price  Sales\n",
      "Date                                                         \n",
      "7/1/17  Saturday        102.9      0.47      59    0.5    143\n",
      "7/2/17    Sunday         93.4      0.51      68    0.5    158\n",
      "7/3/17    Monday         81.5      0.54      68    0.5    235\n",
      "7/4/17   Tuesday         84.2      0.59      49    0.5    534\n",
      "----------------------------------------------------------------\n"
     ]
    }
   ],
   "source": [
    "num_cols = df.select_dtypes(exclude=['object'])\n",
    "for col in num_cols.columns:\n",
    "    print(f'{col} outliers')\n",
    "    outlier_df = outlier_detector(df, col)\n",
    "    print(outlier_df)\n",
    "    print('----------------------------------------------------------------')"
   ]
  },
  {
   "cell_type": "markdown",
   "id": "e7c14edc-bfef-480b-ab13-d258824abbda",
   "metadata": {},
   "source": [
    "These temperatures app"
   ]
  },
  {
   "cell_type": "code",
   "execution_count": null,
   "id": "d33a5889-a1a6-43e8-874a-a553bde12c4a",
   "metadata": {},
   "outputs": [],
   "source": []
  }
 ],
 "metadata": {
  "kernelspec": {
   "display_name": "Python 3 (ipykernel)",
   "language": "python",
   "name": "python3"
  },
  "language_info": {
   "codemirror_mode": {
    "name": "ipython",
    "version": 3
   },
   "file_extension": ".py",
   "mimetype": "text/x-python",
   "name": "python",
   "nbconvert_exporter": "python",
   "pygments_lexer": "ipython3",
   "version": "3.9.15"
  }
 },
 "nbformat": 4,
 "nbformat_minor": 5
}
