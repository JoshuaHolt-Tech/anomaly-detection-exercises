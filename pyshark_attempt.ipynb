{
 "cells": [
  {
   "cell_type": "code",
   "execution_count": 1,
   "id": "03a30294-fbc7-450e-bf4d-b7a85950086b",
   "metadata": {},
   "outputs": [],
   "source": [
    "import scapy\n",
    "import subprocess\n",
    "from scapy.all import rdpcap, sniff, get_if_list, conf, Scapy_Exception, get_if_hwaddr\n",
    "from collections import Counter\n",
    "import pandas as pd\n",
    "import socket\n",
    "import os\n",
    "import time\n",
    "import netifaces"
   ]
  },
  {
   "cell_type": "code",
   "execution_count": 2,
   "id": "df2787aa-d51a-4f11-87c9-4b03926537e8",
   "metadata": {},
   "outputs": [],
   "source": [
    "def get_packets(interface = \"ethernet_0\", filename = \"sniff_cap.csv\", count = 100, print_status = False, timeout=None):\n",
    "    \"\"\"\n",
    "    This function is designed to capture a number of ip packets to analyize with pandas.\n",
    "    \"\"\"\n",
    "    protocol_numbers = {1: \"ICMP\", 2: \"IGMP\", 6: \"TCP\", 17: \"UDP\", 41: \"IPv6\",\n",
    "                        47: \"GRE\", 50: \"ESP\", 51: \"AH\", 58: \"ICMPv6\", 89: \"OSPF\",\n",
    "                        103: \"PIM\", 132: \"SCTP\"}\n",
    "\n",
    "    #Checks if file exists\n",
    "    if os.path.isfile(filename):\n",
    "        df = pd.read_csv(filename)\n",
    "        return df\n",
    "    #Sniffs on all interfaces for 'count' number of ip packets\n",
    "    else:    \n",
    "        sniffed_packets = sniff(iface=interface, count=count, filter=\"ip\", timeout=timeout)\n",
    "        list_of_packets = []\n",
    "        i = 0\n",
    "\n",
    "        for packet in sniffed_packets:\n",
    "            if packet.haslayer('IP'):\n",
    "                try:\n",
    "                    source_name = socket.gethostbyaddr(packet['IP'].src)\n",
    "                except socket.herror:\n",
    "                    source_name = None\n",
    "                try:\n",
    "                    destination_name = socket.gethostbyaddr(packet['IP'].dst)\n",
    "                except socket.herror:\n",
    "                    destination_name = None\n",
    "                i += 1\n",
    "                #Keeps track of how many captures and prints to screen\n",
    "                if print_status == True:\n",
    "                    if i % (count/10) == 0:\n",
    "                        print(f\"Percent complete: {(i/count) * 100} %\")\n",
    "\n",
    "                #Collects the information into a dictionary for later use in Pandas\n",
    "                protocol_number = packet['IP'].proto\n",
    "                \n",
    "                temp_dict = {\"protocol_name\": protocol_numbers.get(protocol_number, \"Unknown\"),\n",
    "                             \"src_IP\" : str(packet[\"IP\"].src),\n",
    "                             \"src_name\": source_name,\n",
    "                             \"dst_IP\" : str(packet[\"IP\"].dst),\n",
    "                             \"dst_name\": destination_name,\n",
    "                             \"payload\": str(packet[\"IP\"].payload)}\n",
    "                if packet.haslayer('TCP'):\n",
    "                    temp_dict[\"source_port\"] = str(packet[\"TCP\"].sport)\n",
    "                    temp_dict[\"dst_port\"] = str(packet[\"TCP\"].dport)\n",
    "                    \n",
    "                elif packet.haslayer('UDP'):\n",
    "                    temp_dict[\"source_port\"] = str(packet[\"UDP\"].sport)\n",
    "                    temp_dict[\"dst_port\"] = str(packet[\"UDP\"].dport)\n",
    "\n",
    "                else:\n",
    "                    temp_dict[\"source_port\"] = None\n",
    "                    temp_dict[\"dst_port\"] = None\n",
    "                list_of_packets.append(temp_dict)\n",
    "                \n",
    "        df = pd.DataFrame(list_of_packets)\n",
    "        df.to_csv(filename, index=False)\n",
    "\n",
    "        return df"
   ]
  },
  {
   "cell_type": "code",
   "execution_count": 3,
   "id": "1d0296c4-ff2c-4aa3-baa4-3e8172346bfe",
   "metadata": {},
   "outputs": [],
   "source": [
    "list_of_ifaces = get_if_list()"
   ]
  },
  {
   "cell_type": "code",
   "execution_count": 4,
   "id": "dec5bda4-1a01-4ce5-a29f-da05b238ea10",
   "metadata": {},
   "outputs": [],
   "source": [
    "#print(list_of_ifaces)"
   ]
  },
  {
   "cell_type": "code",
   "execution_count": 5,
   "id": "a9e6738b-fdef-42e9-86d1-a7703284c816",
   "metadata": {},
   "outputs": [],
   "source": [
    "# Get a list of network interfaces\n",
    "interfaces = netifaces.interfaces()\n",
    "\n",
    "# Print details for each interface\n",
    "for interface in interfaces:\n",
    "    #print(f'Interface: {interface}')\n",
    "    \n",
    "    # Get the addresses for this interface\n",
    "    addresses = netifaces.ifaddresses(interface)\n",
    "    \"\"\"\n",
    "    # Print the MAC address, if available\n",
    "    if netifaces.AF_LINK in addresses:\n",
    "        print('MAC Address:', addresses[netifaces.AF_LINK][0]['addr'])\n",
    "    \n",
    "    # Print the IPv4 address, if available\n",
    "    if netifaces.AF_INET in addresses:\n",
    "        print('IPv4 Address:', addresses[netifaces.AF_INET][0]['addr'])\n",
    "    \n",
    "    # Print the IPv6 address, if available\n",
    "    if netifaces.AF_INET6 in addresses:\n",
    "        print('IPv6 Address:', addresses[netifaces.AF_INET6][0]['addr'])\n",
    "    \"\"\"\n",
    "    #print()\n"
   ]
  },
  {
   "cell_type": "code",
   "execution_count": 6,
   "id": "f5103a99-db58-4ed5-890a-aba82ac02350",
   "metadata": {},
   "outputs": [],
   "source": [
    "# Specify the name of the .pcap file\n",
    "pcap_file = 'capture.pcap'\n",
    "\n",
    "# Specify the Wi-Fi interface\n",
    "interface = interfaces[9]\n",
    "\n",
    "# Specify the capture duration in seconds\n",
    "capture_duration = 60\n",
    "\n",
    "# Run Tshark to capture packets\n",
    "tshark_command = [\"C:\\\\Program Files\\\\Wireshark\\\\tshark.exe\", \"-i\", interface, \"-a\", f\"duration:{capture_duration}\", \"-w\", pcap_file]\n",
    "\n",
    "# Create the .pcap file if it does not exist yet\n",
    "if not os.path.exists(pcap_file):\n",
    "   subprocess.run(tshark_command)"
   ]
  },
  {
   "cell_type": "code",
   "execution_count": 7,
   "id": "0185ebcc-a298-44a6-920a-93e89ae24e28",
   "metadata": {},
   "outputs": [
    {
     "name": "stdout",
     "output_type": "stream",
     "text": [
      "The filecapture.pcap does not exist yet.\n"
     ]
    },
    {
     "ename": "NameError",
     "evalue": "name 'packets' is not defined",
     "output_type": "error",
     "traceback": [
      "\u001b[1;31m---------------------------------------------------------------------------\u001b[0m",
      "\u001b[1;31mNameError\u001b[0m                                 Traceback (most recent call last)",
      "Cell \u001b[1;32mIn[7], line 9\u001b[0m\n\u001b[0;32m      6\u001b[0m     \u001b[38;5;28mprint\u001b[39m(\u001b[38;5;124mf\u001b[39m\u001b[38;5;124m\"\u001b[39m\u001b[38;5;124mThe file\u001b[39m\u001b[38;5;132;01m{\u001b[39;00mpcap_file\u001b[38;5;132;01m}\u001b[39;00m\u001b[38;5;124m does not exist yet.\u001b[39m\u001b[38;5;124m\"\u001b[39m)\n\u001b[0;32m      8\u001b[0m     \u001b[38;5;66;03m# Analyze the packets\u001b[39;00m\n\u001b[1;32m----> 9\u001b[0m ip_packets \u001b[38;5;241m=\u001b[39m [pkt \u001b[38;5;28;01mfor\u001b[39;00m pkt \u001b[38;5;129;01min\u001b[39;00m \u001b[43mpackets\u001b[49m \u001b[38;5;28;01mif\u001b[39;00m pkt\u001b[38;5;241m.\u001b[39mhaslayer(\u001b[38;5;124m'\u001b[39m\u001b[38;5;124mIP\u001b[39m\u001b[38;5;124m'\u001b[39m)]\n\u001b[0;32m     10\u001b[0m tcp_packets \u001b[38;5;241m=\u001b[39m [pkt \u001b[38;5;28;01mfor\u001b[39;00m pkt \u001b[38;5;129;01min\u001b[39;00m packets \u001b[38;5;28;01mif\u001b[39;00m pkt\u001b[38;5;241m.\u001b[39mhaslayer(\u001b[38;5;124m'\u001b[39m\u001b[38;5;124mTCP\u001b[39m\u001b[38;5;124m'\u001b[39m)]\n\u001b[0;32m     11\u001b[0m udp_packets \u001b[38;5;241m=\u001b[39m [pkt \u001b[38;5;28;01mfor\u001b[39;00m pkt \u001b[38;5;129;01min\u001b[39;00m packets \u001b[38;5;28;01mif\u001b[39;00m pkt\u001b[38;5;241m.\u001b[39mhaslayer(\u001b[38;5;124m'\u001b[39m\u001b[38;5;124mUDP\u001b[39m\u001b[38;5;124m'\u001b[39m)]\n",
      "\u001b[1;31mNameError\u001b[0m: name 'packets' is not defined"
     ]
    }
   ],
   "source": [
    "try:\n",
    "    # Use Scapy to read the .pcap file\n",
    "    packets = rdpcap(pcap_file)\n",
    "\n",
    "except FileNotFoundError:\n",
    "    print(f\"The file{pcap_file} does not exist yet.\")\n",
    "\n",
    "    # Analyze the packets\n",
    "ip_packets = [pkt for pkt in packets if pkt.haslayer('IP')]\n",
    "tcp_packets = [pkt for pkt in packets if pkt.haslayer('TCP')]\n",
    "udp_packets = [pkt for pkt in packets if pkt.haslayer('UDP')]\n",
    "\n",
    "print(f'Captured {len(packets)} packets total:')\n",
    "print(f'{len(ip_packets)} IP packets')\n",
    "print(f'{len(tcp_packets)} TCP packets')\n",
    "print(f'{len(udp_packets)} UDP packets')"
   ]
  },
  {
   "cell_type": "code",
   "execution_count": null,
   "id": "1e0ee598-1d8a-455b-b94b-f0df00c83186",
   "metadata": {},
   "outputs": [],
   "source": []
  }
 ],
 "metadata": {
  "kernelspec": {
   "display_name": "Python 3 (ipykernel)",
   "language": "python",
   "name": "python3"
  },
  "language_info": {
   "codemirror_mode": {
    "name": "ipython",
    "version": 3
   },
   "file_extension": ".py",
   "mimetype": "text/x-python",
   "name": "python",
   "nbconvert_exporter": "python",
   "pygments_lexer": "ipython3",
   "version": "3.10.9"
  }
 },
 "nbformat": 4,
 "nbformat_minor": 5
}
