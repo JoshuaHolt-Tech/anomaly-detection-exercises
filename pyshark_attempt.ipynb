{
 "cells": [
  {
   "cell_type": "code",
   "execution_count": 1,
   "id": "03a30294-fbc7-450e-bf4d-b7a85950086b",
   "metadata": {},
   "outputs": [],
   "source": [
    "import scapy\n",
    "import subprocess\n",
    "from scapy.all import rdpcap, sniff, get_if_list, conf, Scapy_Exception, get_if_hwaddr\n",
    "from collections import Counter\n",
    "import pandas as pd\n",
    "import socket\n",
    "import os\n",
    "import time\n",
    "import netifaces"
   ]
  },
  {
   "cell_type": "code",
   "execution_count": 2,
   "id": "df2787aa-d51a-4f11-87c9-4b03926537e8",
   "metadata": {},
   "outputs": [],
   "source": [
    "def get_packets(interface = \"ethernet_0\", filename = \"sniff_cap.csv\", count = 100, print_status = False, timeout=None):\n",
    "    \"\"\"\n",
    "    This function is designed to capture a number of ip packets to analyize with pandas.\n",
    "    \"\"\"\n",
    "    protocol_numbers = {1: \"ICMP\", 2: \"IGMP\", 6: \"TCP\", 17: \"UDP\", 41: \"IPv6\",\n",
    "                        47: \"GRE\", 50: \"ESP\", 51: \"AH\", 58: \"ICMPv6\", 89: \"OSPF\",\n",
    "                        103: \"PIM\", 132: \"SCTP\"}\n",
    "\n",
    "    #Checks if file exists\n",
    "    if os.path.isfile(filename):\n",
    "        df = pd.read_csv(filename)\n",
    "        return df\n",
    "    #Sniffs on all interfaces for 'count' number of ip packets\n",
    "    else:    \n",
    "        sniffed_packets = sniff(iface=interface, count=count, filter=\"ip\", timeout=timeout)\n",
    "        list_of_packets = []\n",
    "        i = 0\n",
    "\n",
    "        for packet in sniffed_packets:\n",
    "            if packet.haslayer('IP'):\n",
    "                try:\n",
    "                    source_name = socket.gethostbyaddr(packet['IP'].src)\n",
    "                except socket.herror:\n",
    "                    source_name = None\n",
    "                try:\n",
    "                    destination_name = socket.gethostbyaddr(packet['IP'].dst)\n",
    "                except socket.herror:\n",
    "                    destination_name = None\n",
    "                i += 1\n",
    "                #Keeps track of how many captures and prints to screen\n",
    "                if print_status == True:\n",
    "                    if i % (count/10) == 0:\n",
    "                        print(f\"Percent complete: {(i/count) * 100} %\")\n",
    "\n",
    "                #Collects the information into a dictionary for later use in Pandas\n",
    "                protocol_number = packet['IP'].proto\n",
    "                \n",
    "                temp_dict = {\"protocol_name\": protocol_numbers.get(protocol_number, \"Unknown\"),\n",
    "                             \"src_IP\" : str(packet[\"IP\"].src),\n",
    "                             \"src_name\": source_name,\n",
    "                             \"dst_IP\" : str(packet[\"IP\"].dst),\n",
    "                             \"dst_name\": destination_name,\n",
    "                             \"payload\": str(packet[\"IP\"].payload)}\n",
    "                if packet.haslayer('TCP'):\n",
    "                    temp_dict[\"source_port\"] = str(packet[\"TCP\"].sport)\n",
    "                    temp_dict[\"dst_port\"] = str(packet[\"TCP\"].dport)\n",
    "                    \n",
    "                elif packet.haslayer('UDP'):\n",
    "                    temp_dict[\"source_port\"] = str(packet[\"UDP\"].sport)\n",
    "                    temp_dict[\"dst_port\"] = str(packet[\"UDP\"].dport)\n",
    "\n",
    "                else:\n",
    "                    temp_dict[\"source_port\"] = None\n",
    "                    temp_dict[\"dst_port\"] = None\n",
    "                list_of_packets.append(temp_dict)\n",
    "                \n",
    "        df = pd.DataFrame(list_of_packets)\n",
    "        df.to_csv(filename, index=False)\n",
    "\n",
    "        return df"
   ]
  },
  {
   "cell_type": "code",
   "execution_count": 3,
   "id": "1d0296c4-ff2c-4aa3-baa4-3e8172346bfe",
   "metadata": {},
   "outputs": [],
   "source": [
    "list_of_ifaces = get_if_list()"
   ]
  },
  {
   "cell_type": "code",
   "execution_count": 4,
   "id": "dec5bda4-1a01-4ce5-a29f-da05b238ea10",
   "metadata": {},
   "outputs": [],
   "source": [
    "#print(list_of_ifaces)"
   ]
  },
  {
   "cell_type": "code",
   "execution_count": 5,
   "id": "a9e6738b-fdef-42e9-86d1-a7703284c816",
   "metadata": {},
   "outputs": [],
   "source": [
    "# Get a list of network interfaces\n",
    "interfaces = netifaces.interfaces()\n",
    "\n",
    "# Print details for each interface\n",
    "for interface in interfaces:\n",
    "    #print(f'Interface: {interface}')\n",
    "    \n",
    "    # Get the addresses for this interface\n",
    "    addresses = netifaces.ifaddresses(interface)\n",
    "    \"\"\"\n",
    "    # Print the MAC address, if available\n",
    "    if netifaces.AF_LINK in addresses:\n",
    "        print('MAC Address:', addresses[netifaces.AF_LINK][0]['addr'])\n",
    "    \n",
    "    # Print the IPv4 address, if available\n",
    "    if netifaces.AF_INET in addresses:\n",
    "        print('IPv4 Address:', addresses[netifaces.AF_INET][0]['addr'])\n",
    "    \n",
    "    # Print the IPv6 address, if available\n",
    "    if netifaces.AF_INET6 in addresses:\n",
    "        print('IPv6 Address:', addresses[netifaces.AF_INET6][0]['addr'])\n",
    "    \"\"\"\n",
    "    #print()\n"
   ]
  },
  {
   "cell_type": "code",
   "execution_count": 6,
   "id": "c44443a5-ac93-459b-a780-9d11d4e30bd5",
   "metadata": {},
   "outputs": [],
   "source": [
    "# Specify the name of the .pcap file\n",
    "pcap_file = 'capture.pcap'"
   ]
  },
  {
   "cell_type": "code",
   "execution_count": 7,
   "id": "3eaa8972-9f6c-4003-89e3-852d4702d14d",
   "metadata": {},
   "outputs": [],
   "source": [
    "# Specify the Wi-Fi interface\n",
    "interface = interfaces[9]"
   ]
  },
  {
   "cell_type": "code",
   "execution_count": 8,
   "id": "dffdea8f-2535-4e71-aac2-748cf82ca0d3",
   "metadata": {},
   "outputs": [],
   "source": [
    "# Specify the capture duration in seconds\n",
    "capture_duration = 60"
   ]
  },
  {
   "cell_type": "code",
   "execution_count": 9,
   "id": "c5bf3de9-e7a5-4740-a605-4a8633265327",
   "metadata": {},
   "outputs": [],
   "source": [
    "# Run Tshark to capture packets\n",
    "tshark_command = [f\"tshark -l -i {interface} -a duration:{capture_duration} -w {pcap_file}\"]"
   ]
  },
  {
   "cell_type": "code",
   "execution_count": 10,
   "id": "a42fa950-bed7-4ea6-8401-19de38afa9fc",
   "metadata": {},
   "outputs": [],
   "source": [
    "# Run Tshark to capture packets\n",
    "tshark_command0 = [f\"C\\Program Files\\Wireshark\\tshark.exe -l -i {interface} -a duration:{capture_duration} -w {pcap_file}\"]"
   ]
  },
  {
   "cell_type": "code",
   "execution_count": 11,
   "id": "99a88b41-43f2-496c-a514-29a207388b5f",
   "metadata": {},
   "outputs": [],
   "source": [
    "#print(tshark_command)"
   ]
  },
  {
   "cell_type": "code",
   "execution_count": 12,
   "id": "cec504e6-bdcf-458c-8a4e-1c8543cff00a",
   "metadata": {},
   "outputs": [],
   "source": [
    "#print(tshark_command0)"
   ]
  },
  {
   "cell_type": "code",
   "execution_count": 13,
   "id": "0f832587-39e5-4d6a-9e6c-665b70d882bb",
   "metadata": {},
   "outputs": [
    {
     "ename": "FileNotFoundError",
     "evalue": "[WinError 2] The system cannot find the file specified",
     "output_type": "error",
     "traceback": [
      "\u001b[1;31m---------------------------------------------------------------------------\u001b[0m",
      "\u001b[1;31mFileNotFoundError\u001b[0m                         Traceback (most recent call last)",
      "Cell \u001b[1;32mIn[13], line 4\u001b[0m\n\u001b[0;32m      2\u001b[0m \u001b[38;5;28;01mif\u001b[39;00m os\u001b[38;5;241m.\u001b[39mpath\u001b[38;5;241m.\u001b[39mexists(pcap_file) \u001b[38;5;241m==\u001b[39m \u001b[38;5;28;01mFalse\u001b[39;00m:\n\u001b[0;32m      3\u001b[0m     subprocess\u001b[38;5;241m.\u001b[39mrun(\u001b[38;5;124m\"\u001b[39m\u001b[38;5;124mnet start npcap\u001b[39m\u001b[38;5;124m\"\u001b[39m)\n\u001b[1;32m----> 4\u001b[0m     \u001b[43msubprocess\u001b[49m\u001b[38;5;241;43m.\u001b[39;49m\u001b[43mrun\u001b[49m\u001b[43m(\u001b[49m\u001b[43mtshark_command\u001b[49m\u001b[43m)\u001b[49m\n\u001b[0;32m      5\u001b[0m     os\u001b[38;5;241m.\u001b[39mpath\u001b[38;5;241m.\u001b[39misfile(pcap_file)\n",
      "File \u001b[1;32mC:\\ProgramData\\anaconda3\\lib\\subprocess.py:503\u001b[0m, in \u001b[0;36mrun\u001b[1;34m(input, capture_output, timeout, check, *popenargs, **kwargs)\u001b[0m\n\u001b[0;32m    500\u001b[0m     kwargs[\u001b[38;5;124m'\u001b[39m\u001b[38;5;124mstdout\u001b[39m\u001b[38;5;124m'\u001b[39m] \u001b[38;5;241m=\u001b[39m PIPE\n\u001b[0;32m    501\u001b[0m     kwargs[\u001b[38;5;124m'\u001b[39m\u001b[38;5;124mstderr\u001b[39m\u001b[38;5;124m'\u001b[39m] \u001b[38;5;241m=\u001b[39m PIPE\n\u001b[1;32m--> 503\u001b[0m \u001b[38;5;28;01mwith\u001b[39;00m Popen(\u001b[38;5;241m*\u001b[39mpopenargs, \u001b[38;5;241m*\u001b[39m\u001b[38;5;241m*\u001b[39mkwargs) \u001b[38;5;28;01mas\u001b[39;00m process:\n\u001b[0;32m    504\u001b[0m     \u001b[38;5;28;01mtry\u001b[39;00m:\n\u001b[0;32m    505\u001b[0m         stdout, stderr \u001b[38;5;241m=\u001b[39m process\u001b[38;5;241m.\u001b[39mcommunicate(\u001b[38;5;28minput\u001b[39m, timeout\u001b[38;5;241m=\u001b[39mtimeout)\n",
      "File \u001b[1;32mC:\\ProgramData\\anaconda3\\lib\\subprocess.py:971\u001b[0m, in \u001b[0;36mPopen.__init__\u001b[1;34m(self, args, bufsize, executable, stdin, stdout, stderr, preexec_fn, close_fds, shell, cwd, env, universal_newlines, startupinfo, creationflags, restore_signals, start_new_session, pass_fds, user, group, extra_groups, encoding, errors, text, umask, pipesize)\u001b[0m\n\u001b[0;32m    967\u001b[0m         \u001b[38;5;28;01mif\u001b[39;00m \u001b[38;5;28mself\u001b[39m\u001b[38;5;241m.\u001b[39mtext_mode:\n\u001b[0;32m    968\u001b[0m             \u001b[38;5;28mself\u001b[39m\u001b[38;5;241m.\u001b[39mstderr \u001b[38;5;241m=\u001b[39m io\u001b[38;5;241m.\u001b[39mTextIOWrapper(\u001b[38;5;28mself\u001b[39m\u001b[38;5;241m.\u001b[39mstderr,\n\u001b[0;32m    969\u001b[0m                     encoding\u001b[38;5;241m=\u001b[39mencoding, errors\u001b[38;5;241m=\u001b[39merrors)\n\u001b[1;32m--> 971\u001b[0m     \u001b[38;5;28;43mself\u001b[39;49m\u001b[38;5;241;43m.\u001b[39;49m\u001b[43m_execute_child\u001b[49m\u001b[43m(\u001b[49m\u001b[43margs\u001b[49m\u001b[43m,\u001b[49m\u001b[43m \u001b[49m\u001b[43mexecutable\u001b[49m\u001b[43m,\u001b[49m\u001b[43m \u001b[49m\u001b[43mpreexec_fn\u001b[49m\u001b[43m,\u001b[49m\u001b[43m \u001b[49m\u001b[43mclose_fds\u001b[49m\u001b[43m,\u001b[49m\n\u001b[0;32m    972\u001b[0m \u001b[43m                        \u001b[49m\u001b[43mpass_fds\u001b[49m\u001b[43m,\u001b[49m\u001b[43m \u001b[49m\u001b[43mcwd\u001b[49m\u001b[43m,\u001b[49m\u001b[43m \u001b[49m\u001b[43menv\u001b[49m\u001b[43m,\u001b[49m\n\u001b[0;32m    973\u001b[0m \u001b[43m                        \u001b[49m\u001b[43mstartupinfo\u001b[49m\u001b[43m,\u001b[49m\u001b[43m \u001b[49m\u001b[43mcreationflags\u001b[49m\u001b[43m,\u001b[49m\u001b[43m \u001b[49m\u001b[43mshell\u001b[49m\u001b[43m,\u001b[49m\n\u001b[0;32m    974\u001b[0m \u001b[43m                        \u001b[49m\u001b[43mp2cread\u001b[49m\u001b[43m,\u001b[49m\u001b[43m \u001b[49m\u001b[43mp2cwrite\u001b[49m\u001b[43m,\u001b[49m\n\u001b[0;32m    975\u001b[0m \u001b[43m                        \u001b[49m\u001b[43mc2pread\u001b[49m\u001b[43m,\u001b[49m\u001b[43m \u001b[49m\u001b[43mc2pwrite\u001b[49m\u001b[43m,\u001b[49m\n\u001b[0;32m    976\u001b[0m \u001b[43m                        \u001b[49m\u001b[43merrread\u001b[49m\u001b[43m,\u001b[49m\u001b[43m \u001b[49m\u001b[43merrwrite\u001b[49m\u001b[43m,\u001b[49m\n\u001b[0;32m    977\u001b[0m \u001b[43m                        \u001b[49m\u001b[43mrestore_signals\u001b[49m\u001b[43m,\u001b[49m\n\u001b[0;32m    978\u001b[0m \u001b[43m                        \u001b[49m\u001b[43mgid\u001b[49m\u001b[43m,\u001b[49m\u001b[43m \u001b[49m\u001b[43mgids\u001b[49m\u001b[43m,\u001b[49m\u001b[43m \u001b[49m\u001b[43muid\u001b[49m\u001b[43m,\u001b[49m\u001b[43m \u001b[49m\u001b[43mumask\u001b[49m\u001b[43m,\u001b[49m\n\u001b[0;32m    979\u001b[0m \u001b[43m                        \u001b[49m\u001b[43mstart_new_session\u001b[49m\u001b[43m)\u001b[49m\n\u001b[0;32m    980\u001b[0m \u001b[38;5;28;01mexcept\u001b[39;00m:\n\u001b[0;32m    981\u001b[0m     \u001b[38;5;66;03m# Cleanup if the child failed starting.\u001b[39;00m\n\u001b[0;32m    982\u001b[0m     \u001b[38;5;28;01mfor\u001b[39;00m f \u001b[38;5;129;01min\u001b[39;00m \u001b[38;5;28mfilter\u001b[39m(\u001b[38;5;28;01mNone\u001b[39;00m, (\u001b[38;5;28mself\u001b[39m\u001b[38;5;241m.\u001b[39mstdin, \u001b[38;5;28mself\u001b[39m\u001b[38;5;241m.\u001b[39mstdout, \u001b[38;5;28mself\u001b[39m\u001b[38;5;241m.\u001b[39mstderr)):\n",
      "File \u001b[1;32mC:\\ProgramData\\anaconda3\\lib\\subprocess.py:1440\u001b[0m, in \u001b[0;36mPopen._execute_child\u001b[1;34m(self, args, executable, preexec_fn, close_fds, pass_fds, cwd, env, startupinfo, creationflags, shell, p2cread, p2cwrite, c2pread, c2pwrite, errread, errwrite, unused_restore_signals, unused_gid, unused_gids, unused_uid, unused_umask, unused_start_new_session)\u001b[0m\n\u001b[0;32m   1438\u001b[0m \u001b[38;5;66;03m# Start the process\u001b[39;00m\n\u001b[0;32m   1439\u001b[0m \u001b[38;5;28;01mtry\u001b[39;00m:\n\u001b[1;32m-> 1440\u001b[0m     hp, ht, pid, tid \u001b[38;5;241m=\u001b[39m \u001b[43m_winapi\u001b[49m\u001b[38;5;241;43m.\u001b[39;49m\u001b[43mCreateProcess\u001b[49m\u001b[43m(\u001b[49m\u001b[43mexecutable\u001b[49m\u001b[43m,\u001b[49m\u001b[43m \u001b[49m\u001b[43margs\u001b[49m\u001b[43m,\u001b[49m\n\u001b[0;32m   1441\u001b[0m \u001b[43m                             \u001b[49m\u001b[38;5;66;43;03m# no special security\u001b[39;49;00m\n\u001b[0;32m   1442\u001b[0m \u001b[43m                             \u001b[49m\u001b[38;5;28;43;01mNone\u001b[39;49;00m\u001b[43m,\u001b[49m\u001b[43m \u001b[49m\u001b[38;5;28;43;01mNone\u001b[39;49;00m\u001b[43m,\u001b[49m\n\u001b[0;32m   1443\u001b[0m \u001b[43m                             \u001b[49m\u001b[38;5;28;43mint\u001b[39;49m\u001b[43m(\u001b[49m\u001b[38;5;129;43;01mnot\u001b[39;49;00m\u001b[43m \u001b[49m\u001b[43mclose_fds\u001b[49m\u001b[43m)\u001b[49m\u001b[43m,\u001b[49m\n\u001b[0;32m   1444\u001b[0m \u001b[43m                             \u001b[49m\u001b[43mcreationflags\u001b[49m\u001b[43m,\u001b[49m\n\u001b[0;32m   1445\u001b[0m \u001b[43m                             \u001b[49m\u001b[43menv\u001b[49m\u001b[43m,\u001b[49m\n\u001b[0;32m   1446\u001b[0m \u001b[43m                             \u001b[49m\u001b[43mcwd\u001b[49m\u001b[43m,\u001b[49m\n\u001b[0;32m   1447\u001b[0m \u001b[43m                             \u001b[49m\u001b[43mstartupinfo\u001b[49m\u001b[43m)\u001b[49m\n\u001b[0;32m   1448\u001b[0m \u001b[38;5;28;01mfinally\u001b[39;00m:\n\u001b[0;32m   1449\u001b[0m     \u001b[38;5;66;03m# Child is launched. Close the parent's copy of those pipe\u001b[39;00m\n\u001b[0;32m   1450\u001b[0m     \u001b[38;5;66;03m# handles that only the child should have open.  You need\u001b[39;00m\n\u001b[1;32m   (...)\u001b[0m\n\u001b[0;32m   1453\u001b[0m     \u001b[38;5;66;03m# pipe will not close when the child process exits and the\u001b[39;00m\n\u001b[0;32m   1454\u001b[0m     \u001b[38;5;66;03m# ReadFile will hang.\u001b[39;00m\n\u001b[0;32m   1455\u001b[0m     \u001b[38;5;28mself\u001b[39m\u001b[38;5;241m.\u001b[39m_close_pipe_fds(p2cread, p2cwrite,\n\u001b[0;32m   1456\u001b[0m                          c2pread, c2pwrite,\n\u001b[0;32m   1457\u001b[0m                          errread, errwrite)\n",
      "\u001b[1;31mFileNotFoundError\u001b[0m: [WinError 2] The system cannot find the file specified"
     ]
    }
   ],
   "source": [
    "# Create the .pcap file if it does not exist yet\n",
    "if os.path.exists(pcap_file) == False:\n",
    "    subprocess.run(\"net start npcap\")\n",
    "    subprocess.run(tshark_command)\n",
    "    os.path.isfile(pcap_file)"
   ]
  },
  {
   "cell_type": "code",
   "execution_count": null,
   "id": "540f6aaf-ebe1-430f-be1d-6e834fb81e5b",
   "metadata": {},
   "outputs": [],
   "source": [
    "# Create the .pcap file if it does not exist yet\n",
    "if os.path.exists(pcap_file) == False:\n",
    "    subprocess.run(\"net start npcap\")\n",
    "    subprocess.run(tshark_command0)\n",
    "    os.path.isfile(pcap_file)"
   ]
  },
  {
   "cell_type": "code",
   "execution_count": null,
   "id": "5b111ae2-ad60-4bb0-9c72-651aec4a64fe",
   "metadata": {},
   "outputs": [],
   "source": [
    "subprocess.call(tshark_command)"
   ]
  },
  {
   "cell_type": "code",
   "execution_count": null,
   "id": "fe6d9030-52c3-41db-bc56-acbb735d497d",
   "metadata": {},
   "outputs": [],
   "source": [
    "os.path.exists(pcap_file)"
   ]
  },
  {
   "cell_type": "code",
   "execution_count": null,
   "id": "d68d64d5-e9f7-41e4-a3ea-eca7ee0bfb2e",
   "metadata": {},
   "outputs": [],
   "source": [
    "os.path.isfile(pcap_file)"
   ]
  },
  {
   "cell_type": "code",
   "execution_count": null,
   "id": "4ca98166-2621-47c0-8adc-c528dcfd40bc",
   "metadata": {},
   "outputs": [],
   "source": [
    "try:\n",
    "    # Use Scapy to read the .pcap file\n",
    "    packets = rdpcap(pcap_file)\n",
    "\n",
    "except FileNotFoundError:\n",
    "    print(f\"The file{pcap_file} does not exist yet.\")"
   ]
  },
  {
   "cell_type": "code",
   "execution_count": null,
   "id": "ff3e38f3-50eb-4932-b618-fbdb682db00a",
   "metadata": {},
   "outputs": [],
   "source": [
    "# Analyze the packets\n",
    "ip_packets = [pkt for pkt in packets if pkt.haslayer('IP')]\n",
    "tcp_packets = [pkt for pkt in packets if pkt.haslayer('TCP')]\n",
    "udp_packets = [pkt for pkt in packets if pkt.haslayer('UDP')]"
   ]
  },
  {
   "cell_type": "code",
   "execution_count": null,
   "id": "eb795aca-4590-4abe-a1d6-663103e94003",
   "metadata": {},
   "outputs": [],
   "source": [
    "print(f'Captured {len(packets)} packets total:')\n",
    "print(f'{len(ip_packets)} IP packets')\n",
    "print(f'{len(tcp_packets)} TCP packets')\n",
    "print(f'{len(udp_packets)} UDP packets')"
   ]
  },
  {
   "cell_type": "code",
   "execution_count": null,
   "id": "b4c83c4a-78c1-43bd-a862-9a2740d1a3d7",
   "metadata": {},
   "outputs": [],
   "source": [
    "def run_tcpdump():\n",
    "    command = ['tcpdump', '-i', interface, '-w', 'output.pcap', '-c', '100']\n",
    "    process = subprocess.Popen(command, stdout=subprocess.PIPE)\n",
    "    output, error = process.communicate()"
   ]
  },
  {
   "cell_type": "code",
   "execution_count": null,
   "id": "5756343e-92d8-40db-8a1e-0eae64d88747",
   "metadata": {},
   "outputs": [],
   "source": [
    "run_tcpdump()"
   ]
  },
  {
   "cell_type": "code",
   "execution_count": null,
   "id": "155fc0dd-1213-4f87-b7e2-364bf3cf0f6c",
   "metadata": {},
   "outputs": [],
   "source": []
  }
 ],
 "metadata": {
  "kernelspec": {
   "display_name": "Python 3 (ipykernel)",
   "language": "python",
   "name": "python3"
  },
  "language_info": {
   "codemirror_mode": {
    "name": "ipython",
    "version": 3
   },
   "file_extension": ".py",
   "mimetype": "text/x-python",
   "name": "python",
   "nbconvert_exporter": "python",
   "pygments_lexer": "ipython3",
   "version": "3.10.9"
  }
 },
 "nbformat": 4,
 "nbformat_minor": 5
}
