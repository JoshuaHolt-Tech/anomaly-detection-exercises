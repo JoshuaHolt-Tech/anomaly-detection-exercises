{
 "cells": [
  {
   "cell_type": "code",
   "execution_count": 1,
   "id": "03a30294-fbc7-450e-bf4d-b7a85950086b",
   "metadata": {},
   "outputs": [],
   "source": [
    "import scapy\n",
    "import subprocess\n",
    "from scapy.all import rdpcap, sniff, get_if_list, conf, Scapy_Exception, get_if_hwaddr\n",
    "from collections import Counter\n",
    "import pandas as pd\n",
    "import socket\n",
    "import os\n",
    "import time\n",
    "import netifaces"
   ]
  },
  {
   "cell_type": "code",
   "execution_count": 2,
   "id": "df2787aa-d51a-4f11-87c9-4b03926537e8",
   "metadata": {},
   "outputs": [],
   "source": [
    "def get_packets(interface = \"ethernet_0\", filename = \"sniff_cap.csv\", count = 100, print_status = False, timeout=None):\n",
    "    \"\"\"\n",
    "    This function is designed to capture a number of ip packets to analyize with pandas. It only seems to work on the loopback.\n",
    "    \"\"\"\n",
    "    protocol_numbers = {1: \"ICMP\", 2: \"IGMP\", 6: \"TCP\", 17: \"UDP\", 41: \"IPv6\",\n",
    "                        47: \"GRE\", 50: \"ESP\", 51: \"AH\", 58: \"ICMPv6\", 89: \"OSPF\",\n",
    "                        103: \"PIM\", 132: \"SCTP\"}\n",
    "\n",
    "    #Checks if file exists\n",
    "    if os.path.isfile(filename):\n",
    "        df = pd.read_csv(filename)\n",
    "        return df\n",
    "    #Sniffs on all interfaces for 'count' number of ip packets\n",
    "    else:    \n",
    "        sniffed_packets = sniff(iface=interface, count=count, filter=\"ip\", timeout=timeout)\n",
    "        list_of_packets = []\n",
    "        i = 0\n",
    "\n",
    "        for packet in sniffed_packets:\n",
    "            if packet.haslayer('IP'):\n",
    "                try:\n",
    "                    source_name = socket.gethostbyaddr(packet['IP'].src)\n",
    "                except socket.herror:\n",
    "                    source_name = None\n",
    "                try:\n",
    "                    destination_name = socket.gethostbyaddr(packet['IP'].dst)\n",
    "                except socket.herror:\n",
    "                    destination_name = None\n",
    "                i += 1\n",
    "                #Keeps track of how many captures and prints to screen\n",
    "                if print_status == True:\n",
    "                    if i % (count/10) == 0:\n",
    "                        print(f\"Percent complete: {(i/count) * 100} %\")\n",
    "\n",
    "                #Collects the information into a dictionary for later use in Pandas\n",
    "                protocol_number = packet['IP'].proto\n",
    "                \n",
    "                temp_dict = {\"protocol_name\": protocol_numbers.get(protocol_number, \"Unknown\"),\n",
    "                             \"src_IP\" : str(packet[\"IP\"].src),\n",
    "                             \"src_name\": source_name,\n",
    "                             \"dst_IP\" : str(packet[\"IP\"].dst),\n",
    "                             \"dst_name\": destination_name,\n",
    "                             \"payload\": str(packet[\"IP\"].payload)}\n",
    "                if packet.haslayer('TCP'):\n",
    "                    temp_dict[\"source_port\"] = str(packet[\"TCP\"].sport)\n",
    "                    temp_dict[\"dst_port\"] = str(packet[\"TCP\"].dport)\n",
    "                    \n",
    "                elif packet.haslayer('UDP'):\n",
    "                    temp_dict[\"source_port\"] = str(packet[\"UDP\"].sport)\n",
    "                    temp_dict[\"dst_port\"] = str(packet[\"UDP\"].dport)\n",
    "\n",
    "                else:\n",
    "                    temp_dict[\"source_port\"] = None\n",
    "                    temp_dict[\"dst_port\"] = None\n",
    "                list_of_packets.append(temp_dict)\n",
    "                \n",
    "        df = pd.DataFrame(list_of_packets)\n",
    "        df.to_csv(filename, index=False)\n",
    "\n",
    "        return df"
   ]
  },
  {
   "cell_type": "code",
   "execution_count": 3,
   "id": "1d0296c4-ff2c-4aa3-baa4-3e8172346bfe",
   "metadata": {},
   "outputs": [],
   "source": [
    "list_of_ifaces = get_if_list()"
   ]
  },
  {
   "cell_type": "code",
   "execution_count": 4,
   "id": "dec5bda4-1a01-4ce5-a29f-da05b238ea10",
   "metadata": {},
   "outputs": [],
   "source": [
    "#print(list_of_ifaces)"
   ]
  },
  {
   "cell_type": "code",
   "execution_count": 5,
   "id": "a9e6738b-fdef-42e9-86d1-a7703284c816",
   "metadata": {},
   "outputs": [],
   "source": [
    "# Get a list of network interfaces\n",
    "interfaces = netifaces.interfaces()\n",
    "\n",
    "# Print details for each interface\n",
    "for interface in interfaces:\n",
    "    #print(f'Interface: {interface}')\n",
    "    \n",
    "    # Get the addresses for this interface\n",
    "    addresses = netifaces.ifaddresses(interface)\n",
    "    \"\"\"\n",
    "    # Print the MAC address, if available\n",
    "    if netifaces.AF_LINK in addresses:\n",
    "        print('MAC Address:', addresses[netifaces.AF_LINK][0]['addr'])\n",
    "    \n",
    "    # Print the IPv4 address, if available\n",
    "    if netifaces.AF_INET in addresses:\n",
    "        print('IPv4 Address:', addresses[netifaces.AF_INET][0]['addr'])\n",
    "    \n",
    "    # Print the IPv6 address, if available\n",
    "    if netifaces.AF_INET6 in addresses:\n",
    "        print('IPv6 Address:', addresses[netifaces.AF_INET6][0]['addr'])\n",
    "    \"\"\"\n",
    "    #print()\n"
   ]
  },
  {
   "cell_type": "code",
   "execution_count": 6,
   "id": "c44443a5-ac93-459b-a780-9d11d4e30bd5",
   "metadata": {},
   "outputs": [],
   "source": [
    "# Specify the name of the .pcap file\n",
    "pcap_file = 'capture.pcap'"
   ]
  },
  {
   "cell_type": "code",
   "execution_count": 7,
   "id": "3eaa8972-9f6c-4003-89e3-852d4702d14d",
   "metadata": {},
   "outputs": [],
   "source": [
    "# Specify the Wi-Fi interface\n",
    "interface = interfaces[9]"
   ]
  },
  {
   "cell_type": "code",
   "execution_count": 8,
   "id": "dffdea8f-2535-4e71-aac2-748cf82ca0d3",
   "metadata": {},
   "outputs": [],
   "source": [
    "# Specify the capture duration in seconds\n",
    "capture_duration = 60"
   ]
  },
  {
   "cell_type": "code",
   "execution_count": 9,
   "id": "c5bf3de9-e7a5-4740-a605-4a8633265327",
   "metadata": {},
   "outputs": [],
   "source": [
    "# Run Tshark to capture packets\n",
    "tshark_command = [f\"tshark -l -i {interface} -a duration:{capture_duration} -w {pcap_file}\", \n",
    "                  f\"C\\Program Files\\Wireshark\\tshark.exe -l -i {interface} -a duration:{capture_duration} -w {pcap_file}\"]"
   ]
  },
  {
   "cell_type": "code",
   "execution_count": 10,
   "id": "0f832587-39e5-4d6a-9e6c-665b70d882bb",
   "metadata": {},
   "outputs": [],
   "source": [
    "# Create the .pcap file if it does not exist yet\n",
    "if os.path.exists(pcap_file) == False:\n",
    "    os.system(\"net start npcap\")\n",
    "    os.system(tshark_command[0])\n",
    "    os.path.isfile(pcap_file)"
   ]
  },
  {
   "cell_type": "code",
   "execution_count": 11,
   "id": "540f6aaf-ebe1-430f-be1d-6e834fb81e5b",
   "metadata": {},
   "outputs": [],
   "source": [
    "# Create the .pcap file if it does not exist yet\n",
    "if os.path.exists(pcap_file) == False:\n",
    "    os.system(\"net start npcap\")\n",
    "    os.system(tshark_command[1])\n",
    "    os.path.isfile(pcap_file)"
   ]
  },
  {
   "cell_type": "code",
   "execution_count": 12,
   "id": "30936ec4-9ab5-441e-8c5f-46630e6964a0",
   "metadata": {},
   "outputs": [],
   "source": [
    "#print(tshark_command[0])"
   ]
  },
  {
   "cell_type": "code",
   "execution_count": 13,
   "id": "1dfe5325-4221-4781-be37-e89e851cef9b",
   "metadata": {},
   "outputs": [
    {
     "data": {
      "text/plain": [
       "1"
      ]
     },
     "execution_count": 13,
     "metadata": {},
     "output_type": "execute_result"
    }
   ],
   "source": [
    "os.system(tshark_command[0])"
   ]
  },
  {
   "cell_type": "code",
   "execution_count": 14,
   "id": "794dae2a-945a-4615-a380-2da9f68b83b8",
   "metadata": {},
   "outputs": [
    {
     "data": {
      "text/plain": [
       "1"
      ]
     },
     "execution_count": 14,
     "metadata": {},
     "output_type": "execute_result"
    }
   ],
   "source": [
    "os.system(tshark_command[1])"
   ]
  },
  {
   "cell_type": "code",
   "execution_count": 15,
   "id": "fe6d9030-52c3-41db-bc56-acbb735d497d",
   "metadata": {},
   "outputs": [
    {
     "data": {
      "text/plain": [
       "False"
      ]
     },
     "execution_count": 15,
     "metadata": {},
     "output_type": "execute_result"
    }
   ],
   "source": [
    "os.path.exists(pcap_file)"
   ]
  },
  {
   "cell_type": "code",
   "execution_count": 16,
   "id": "d68d64d5-e9f7-41e4-a3ea-eca7ee0bfb2e",
   "metadata": {},
   "outputs": [
    {
     "data": {
      "text/plain": [
       "False"
      ]
     },
     "execution_count": 16,
     "metadata": {},
     "output_type": "execute_result"
    }
   ],
   "source": [
    "os.path.isfile(pcap_file)"
   ]
  },
  {
   "cell_type": "code",
   "execution_count": 17,
   "id": "4ca98166-2621-47c0-8adc-c528dcfd40bc",
   "metadata": {},
   "outputs": [
    {
     "name": "stdout",
     "output_type": "stream",
     "text": [
      "The file: capture.pcap does not exist yet.\n"
     ]
    }
   ],
   "source": [
    "try:\n",
    "    # Use Scapy to read the .pcap file\n",
    "    packets = rdpcap(pcap_file)\n",
    "\n",
    "except FileNotFoundError:\n",
    "    print(f\"The file: {pcap_file} does not exist yet.\")"
   ]
  },
  {
   "cell_type": "code",
   "execution_count": 18,
   "id": "ff3e38f3-50eb-4932-b618-fbdb682db00a",
   "metadata": {},
   "outputs": [
    {
     "name": "stdout",
     "output_type": "stream",
     "text": [
      "The file: capture.pcap does not exist yet.\n"
     ]
    }
   ],
   "source": [
    "# Analyze the packets\n",
    "try:\n",
    "    ip_packets = [pkt for pkt in packets if pkt.haslayer('IP')]\n",
    "    tcp_packets = [pkt for pkt in packets if pkt.haslayer('TCP')]\n",
    "    udp_packets = [pkt for pkt in packets if pkt.haslayer('UDP')]\n",
    "\n",
    "except NameError:\n",
    "    print(f\"The file: {pcap_file} does not exist yet.\")"
   ]
  },
  {
   "cell_type": "code",
   "execution_count": 19,
   "id": "eb795aca-4590-4abe-a1d6-663103e94003",
   "metadata": {},
   "outputs": [
    {
     "name": "stdout",
     "output_type": "stream",
     "text": [
      "The file: capture.pcap does not exist yet.\n"
     ]
    }
   ],
   "source": [
    "try:\n",
    "    print(f'Captured {len(packets)} packets total:')\n",
    "    print(f'{len(ip_packets)} IP packets')\n",
    "    print(f'{len(tcp_packets)} TCP packets')\n",
    "    print(f'{len(udp_packets)} UDP packets')\n",
    "\n",
    "except NameError:\n",
    "    print(f\"The file: {pcap_file} does not exist yet.\")"
   ]
  },
  {
   "cell_type": "code",
   "execution_count": null,
   "id": "155fc0dd-1213-4f87-b7e2-364bf3cf0f6c",
   "metadata": {},
   "outputs": [],
   "source": []
  }
 ],
 "metadata": {
  "kernelspec": {
   "display_name": "Python 3 (ipykernel)",
   "language": "python",
   "name": "python3"
  },
  "language_info": {
   "codemirror_mode": {
    "name": "ipython",
    "version": 3
   },
   "file_extension": ".py",
   "mimetype": "text/x-python",
   "name": "python",
   "nbconvert_exporter": "python",
   "pygments_lexer": "ipython3",
   "version": "3.10.9"
  }
 },
 "nbformat": 4,
 "nbformat_minor": 5
}
