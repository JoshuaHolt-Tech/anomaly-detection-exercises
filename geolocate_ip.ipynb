{
 "cells": [
  {
   "cell_type": "code",
   "execution_count": 1,
   "id": "fc878c14-69bc-4a37-b05b-29bb6c8b7305",
   "metadata": {},
   "outputs": [],
   "source": [
    "import numpy as np\n",
    "import pandas as pd\n",
    "import ipaddress\n",
    "import itertools\n",
    "import csv\n",
    "import matplotlib.pyplot as plt\n",
    "import seaborn as sns\n",
    "import socket\n",
    "import requests\n",
    "from ip2geotools.databases.noncommercial import DbIpCity\n",
    "from geopy.distance import distance"
   ]
  },
  {
   "cell_type": "markdown",
   "id": "d35d3f09-e198-4d52-a76f-f4bfdcc44056",
   "metadata": {},
   "source": [
    "CSVs from: https://dev.maxmind.com/geoip/geolite2-free-geolocation-data?lang=en\n"
   ]
  },
  {
   "cell_type": "markdown",
   "id": "b148c1e3-0e88-4830-af3c-20a55a718002",
   "metadata": {},
   "source": [
    "Geoname_id from: https://www.geonames.org/\n",
    "\n",
    "Downloads: https://www.geonames.org/export/\n",
    "\n",
    "Data dictionary: https://dev.maxmind.com/geoip/docs/databases/city-and-country?lang=en"
   ]
  },
  {
   "cell_type": "markdown",
   "id": "4a1d5051-852f-426d-adbb-478968332606",
   "metadata": {},
   "source": [
    "[+] You need to review IPv4 and IPv6 formatting and develop code to parse.\n"
   ]
  },
  {
   "cell_type": "markdown",
   "id": "e29a0f59-ea88-411a-badc-6929b399b6b0",
   "metadata": {},
   "source": [
    "City locations contains all of country locations.\n"
   ]
  },
  {
   "cell_type": "code",
   "execution_count": 2,
   "id": "f2927dcb-0b34-4a6f-b2df-cae2c1abf750",
   "metadata": {},
   "outputs": [],
   "source": [
    "ipv4_city_blocks = pd.read_csv('GeoLite2-City-Blocks-IPv4.csv')"
   ]
  },
  {
   "cell_type": "code",
   "execution_count": 3,
   "id": "afc9bb43-5ca3-4fb5-819f-1cb8bb166fe8",
   "metadata": {},
   "outputs": [
    {
     "data": {
      "text/html": [
       "<div>\n",
       "<style scoped>\n",
       "    .dataframe tbody tr th:only-of-type {\n",
       "        vertical-align: middle;\n",
       "    }\n",
       "\n",
       "    .dataframe tbody tr th {\n",
       "        vertical-align: top;\n",
       "    }\n",
       "\n",
       "    .dataframe thead th {\n",
       "        text-align: right;\n",
       "    }\n",
       "</style>\n",
       "<table border=\"1\" class=\"dataframe\">\n",
       "  <thead>\n",
       "    <tr style=\"text-align: right;\">\n",
       "      <th></th>\n",
       "      <th>network</th>\n",
       "      <th>geoname_id</th>\n",
       "      <th>registered_country_geoname_id</th>\n",
       "      <th>represented_country_geoname_id</th>\n",
       "      <th>is_anonymous_proxy</th>\n",
       "      <th>is_satellite_provider</th>\n",
       "      <th>postal_code</th>\n",
       "      <th>latitude</th>\n",
       "      <th>longitude</th>\n",
       "      <th>accuracy_radius</th>\n",
       "    </tr>\n",
       "  </thead>\n",
       "  <tbody>\n",
       "    <tr>\n",
       "      <th>0</th>\n",
       "      <td>1.0.0.0/24</td>\n",
       "      <td>2158177.0</td>\n",
       "      <td>2077456.0</td>\n",
       "      <td>NaN</td>\n",
       "      <td>0</td>\n",
       "      <td>0</td>\n",
       "      <td>3135</td>\n",
       "      <td>-37.8333</td>\n",
       "      <td>145.2375</td>\n",
       "      <td>1000.0</td>\n",
       "    </tr>\n",
       "    <tr>\n",
       "      <th>1</th>\n",
       "      <td>1.0.1.0/24</td>\n",
       "      <td>1814991.0</td>\n",
       "      <td>1814991.0</td>\n",
       "      <td>NaN</td>\n",
       "      <td>0</td>\n",
       "      <td>0</td>\n",
       "      <td>NaN</td>\n",
       "      <td>34.7732</td>\n",
       "      <td>113.7220</td>\n",
       "      <td>1000.0</td>\n",
       "    </tr>\n",
       "    <tr>\n",
       "      <th>2</th>\n",
       "      <td>1.0.2.0/23</td>\n",
       "      <td>1814991.0</td>\n",
       "      <td>1814991.0</td>\n",
       "      <td>NaN</td>\n",
       "      <td>0</td>\n",
       "      <td>0</td>\n",
       "      <td>NaN</td>\n",
       "      <td>34.7732</td>\n",
       "      <td>113.7220</td>\n",
       "      <td>1000.0</td>\n",
       "    </tr>\n",
       "    <tr>\n",
       "      <th>3</th>\n",
       "      <td>1.0.4.0/23</td>\n",
       "      <td>2158177.0</td>\n",
       "      <td>2077456.0</td>\n",
       "      <td>NaN</td>\n",
       "      <td>0</td>\n",
       "      <td>0</td>\n",
       "      <td>3109</td>\n",
       "      <td>-37.7789</td>\n",
       "      <td>145.1600</td>\n",
       "      <td>1000.0</td>\n",
       "    </tr>\n",
       "    <tr>\n",
       "      <th>4</th>\n",
       "      <td>1.0.6.0/23</td>\n",
       "      <td>2147714.0</td>\n",
       "      <td>2077456.0</td>\n",
       "      <td>NaN</td>\n",
       "      <td>0</td>\n",
       "      <td>0</td>\n",
       "      <td>2000</td>\n",
       "      <td>-33.8715</td>\n",
       "      <td>151.2006</td>\n",
       "      <td>500.0</td>\n",
       "    </tr>\n",
       "  </tbody>\n",
       "</table>\n",
       "</div>"
      ],
      "text/plain": [
       "      network  geoname_id  registered_country_geoname_id  \\\n",
       "0  1.0.0.0/24   2158177.0                      2077456.0   \n",
       "1  1.0.1.0/24   1814991.0                      1814991.0   \n",
       "2  1.0.2.0/23   1814991.0                      1814991.0   \n",
       "3  1.0.4.0/23   2158177.0                      2077456.0   \n",
       "4  1.0.6.0/23   2147714.0                      2077456.0   \n",
       "\n",
       "   represented_country_geoname_id  is_anonymous_proxy  is_satellite_provider  \\\n",
       "0                             NaN                   0                      0   \n",
       "1                             NaN                   0                      0   \n",
       "2                             NaN                   0                      0   \n",
       "3                             NaN                   0                      0   \n",
       "4                             NaN                   0                      0   \n",
       "\n",
       "  postal_code  latitude  longitude  accuracy_radius  \n",
       "0        3135  -37.8333   145.2375           1000.0  \n",
       "1         NaN   34.7732   113.7220           1000.0  \n",
       "2         NaN   34.7732   113.7220           1000.0  \n",
       "3        3109  -37.7789   145.1600           1000.0  \n",
       "4        2000  -33.8715   151.2006            500.0  "
      ]
     },
     "execution_count": 3,
     "metadata": {},
     "output_type": "execute_result"
    }
   ],
   "source": [
    "ipv4_city_blocks.head()"
   ]
  },
  {
   "cell_type": "code",
   "execution_count": 4,
   "id": "aedffdd7-7f21-44c1-9161-84aa44f41828",
   "metadata": {},
   "outputs": [],
   "source": [
    "city_locs = pd.read_csv('GeoLite2-City-Locations-en.csv')"
   ]
  },
  {
   "cell_type": "code",
   "execution_count": 5,
   "id": "3636b571-0fe6-4346-ac76-2a8887f8fdcb",
   "metadata": {},
   "outputs": [],
   "source": [
    "ipv4_city_blocks = ipv4_city_blocks.merge(city_locs, on='geoname_id', how='left')"
   ]
  },
  {
   "cell_type": "code",
   "execution_count": 6,
   "id": "618c90ed-2739-44aa-b6c6-3698a3eb3f48",
   "metadata": {},
   "outputs": [],
   "source": [
    "cols_to_keep = ['network', 'city_name','subdivision_1_name', 'country_name', 'latitude', 'longitude']"
   ]
  },
  {
   "cell_type": "code",
   "execution_count": 7,
   "id": "8fafccb8-d775-4559-a4ca-422e3b8870c6",
   "metadata": {},
   "outputs": [],
   "source": [
    "ipv4_df = ipv4_city_blocks[cols_to_keep].copy()"
   ]
  },
  {
   "cell_type": "code",
   "execution_count": 8,
   "id": "ad2066ea-8d76-45c3-b52f-ff1a566063e8",
   "metadata": {},
   "outputs": [],
   "source": [
    "ipv4_df.rename({'city_name':'city', 'subdivision_1_name':'region', 'country_name':'country'}, axis=1, inplace=True)"
   ]
  },
  {
   "cell_type": "code",
   "execution_count": 9,
   "id": "1f58e4f4-4bc0-4f09-93f2-39bd483abcc5",
   "metadata": {},
   "outputs": [
    {
     "data": {
      "text/plain": [
       "network           0\n",
       "city         372804\n",
       "region       364538\n",
       "country        1399\n",
       "latitude        145\n",
       "longitude       145\n",
       "dtype: int64"
      ]
     },
     "execution_count": 9,
     "metadata": {},
     "output_type": "execute_result"
    }
   ],
   "source": [
    "ipv4_df.isna().sum()"
   ]
  },
  {
   "cell_type": "code",
   "execution_count": 10,
   "id": "1e917fa4-6a6c-4fb4-b144-7b8c365da0a8",
   "metadata": {},
   "outputs": [],
   "source": [
    "ipv4_df.dropna(subset = 'latitude', inplace = True)"
   ]
  },
  {
   "cell_type": "code",
   "execution_count": 11,
   "id": "b500b61a-80ff-4b6b-ad61-2dccc67d6d35",
   "metadata": {},
   "outputs": [],
   "source": [
    "#Create a better csv?\n",
    "#ipv4_df.to_csv(\"ipv4_networks.csv\", index=False)"
   ]
  },
  {
   "cell_type": "markdown",
   "id": "8470284e-9834-4bd8-beb4-7cbd513a21c3",
   "metadata": {},
   "source": [
    "### Inital searches took too long. Creating smaller bins for quicker searching:\n"
   ]
  },
  {
   "cell_type": "code",
   "execution_count": 12,
   "id": "a7f7135a-8c86-435c-8649-f1bf6e431aa4",
   "metadata": {},
   "outputs": [],
   "source": [
    "df = pd.read_csv('curriculum_logs.csv')"
   ]
  },
  {
   "cell_type": "code",
   "execution_count": 14,
   "id": "9725371c-a168-4ae2-9c76-53fa63c9a67d",
   "metadata": {},
   "outputs": [],
   "source": [
    "ip_addys = df.ip.unique()"
   ]
  },
  {
   "cell_type": "code",
   "execution_count": 15,
   "id": "aadbd9be-ea35-4d1d-a17a-f8e7b5365e23",
   "metadata": {},
   "outputs": [
    {
     "data": {
      "text/plain": [
       "array(['97.105.19.61', '71.137.146.71', '209.205.123.242', ...,\n",
       "       '134.250.1.82', '174.197.2.198', '107.77.169.13'], dtype=object)"
      ]
     },
     "execution_count": 15,
     "metadata": {},
     "output_type": "execute_result"
    }
   ],
   "source": [
    "ip_addys"
   ]
  },
  {
   "cell_type": "code",
   "execution_count": 16,
   "id": "eda1586b-b944-4a7e-bc40-72d7626f58b9",
   "metadata": {
    "tags": []
   },
   "outputs": [],
   "source": [
    "addy_list = []\n",
    "for item in ip_addys:\n",
    "    addy_list.append(ipaddress.ip_address(item))"
   ]
  },
  {
   "cell_type": "code",
   "execution_count": 17,
   "id": "6264e5b8-50f9-4d6a-b0a5-091aa41378d3",
   "metadata": {},
   "outputs": [
    {
     "data": {
      "text/plain": [
       "ipaddress.IPv4Address"
      ]
     },
     "execution_count": 17,
     "metadata": {},
     "output_type": "execute_result"
    }
   ],
   "source": [
    "type(addy_list[4])"
   ]
  },
  {
   "cell_type": "code",
   "execution_count": 18,
   "id": "2af61f6e-e0bd-4cdd-aa02-b74ea8987a7c",
   "metadata": {},
   "outputs": [],
   "source": [
    "network_list = []\n",
    "for thing in ipv4_df.network:\n",
    "    network_list.append(ipaddress.ip_network(thing))"
   ]
  },
  {
   "cell_type": "code",
   "execution_count": 19,
   "id": "e8dc8e87-ed75-4287-a662-b0cfb9799df1",
   "metadata": {},
   "outputs": [
    {
     "data": {
      "text/plain": [
       "ipaddress.IPv4Network"
      ]
     },
     "execution_count": 19,
     "metadata": {},
     "output_type": "execute_result"
    }
   ],
   "source": [
    "type(network_list[7])"
   ]
  },
  {
   "cell_type": "code",
   "execution_count": 20,
   "id": "989b7069-6a0e-4e46-ae45-b6929fc30f55",
   "metadata": {},
   "outputs": [],
   "source": [
    "network_list.sort()"
   ]
  },
  {
   "cell_type": "code",
   "execution_count": 21,
   "id": "2fb5472b-6cf9-43b4-b20a-0fd226103ef7",
   "metadata": {},
   "outputs": [],
   "source": [
    "class_a_ip_addy = [ipaddress.ip_address(\"0.0.0.0\") , ipaddress.ip_address(\"127.255.255.255\")]\n",
    "class_b_ip_addy = [ipaddress.ip_address(\"128.0.0.0\") , ipaddress.ip_address(\"191.255.255.255\")]\n",
    "class_c_ip_addy = [ipaddress.ip_address(\"192.0.0.0\") , ipaddress.ip_address(\"223.255.255.255\")]\n",
    "class_d_ip_addy = [ipaddress.ip_address(\"224.0.0.0\") , ipaddress.ip_address(\"239.255.255.255\")]\n",
    "class_e_ip_addy = [ipaddress.ip_address(\"240.0.0.0\") , ipaddress.ip_address(\"255.255.255.255\")]"
   ]
  },
  {
   "cell_type": "code",
   "execution_count": 22,
   "id": "f60146ea-8993-422b-a8c1-a33998744356",
   "metadata": {},
   "outputs": [],
   "source": [
    "class_a0_ip_net = ipaddress.ip_network(\"16.0.0.0/32\")\n",
    "class_a1_ip_net = ipaddress.ip_network(\"32.0.0.0/32\")\n",
    "class_a2_ip_net = ipaddress.ip_network(\"48.0.0.0/32\")\n",
    "class_a3_ip_net = ipaddress.ip_network(\"64.0.0.0/32\")\n",
    "class_a4_ip_net = ipaddress.ip_network(\"80.0.0.0/32\")\n",
    "class_a5_ip_net = ipaddress.ip_network(\"96.0.0.0/32\")\n",
    "class_a6_ip_net = ipaddress.ip_network(\"112.0.0.0/32\")\n",
    "class_b0_ip_net = ipaddress.ip_network(\"128.0.0.0/32\")\n",
    "class_b1_ip_net = ipaddress.ip_network(\"144.0.0.0/32\")\n",
    "class_b2_ip_net = ipaddress.ip_network(\"160.0.0.0/32\")\n",
    "class_b3_ip_net = ipaddress.ip_network(\"176.0.0.0/32\")\n",
    "class_c0_ip_net = ipaddress.ip_network(\"192.0.0.0/32\")\n",
    "class_c1_ip_net = ipaddress.ip_network(\"208.0.0.0/32\")\n",
    "class_d0_ip_net = ipaddress.ip_network(\"224.0.0.0/32\")\n",
    "class_e0_ip_net = ipaddress.ip_network(\"240.0.0.0/32\")"
   ]
  },
  {
   "cell_type": "code",
   "execution_count": 23,
   "id": "bf55a9a5-8b08-489a-ac31-c74ed7a37024",
   "metadata": {},
   "outputs": [],
   "source": [
    "class_a0_networks = []\n",
    "class_a1_networks = []\n",
    "class_a2_networks = []\n",
    "class_a3_networks = []\n",
    "class_a4_networks = []\n",
    "class_a5_networks = []\n",
    "class_a6_networks = []\n",
    "class_b0_networks = []\n",
    "class_b1_networks = []\n",
    "class_b2_networks = []\n",
    "class_b3_networks = []\n",
    "class_c0_networks = []\n",
    "class_c1_networks = []\n",
    "class_d0_networks = []\n",
    "class_e0_networks = []"
   ]
  },
  {
   "cell_type": "code",
   "execution_count": 24,
   "id": "ae51113b-84a2-4817-b009-ff4b7134f1f7",
   "metadata": {
    "tags": []
   },
   "outputs": [],
   "source": [
    "for network in ipv4_df.network:\n",
    "    \n",
    "    network = ipaddress.ip_network(network)\n",
    "    \n",
    "    if network <= class_a0_ip_net:\n",
    "        class_a0_networks.append(network)\n",
    "    elif network <= class_a1_ip_net:\n",
    "        class_a1_networks.append(network)\n",
    "    elif network <= class_a2_ip_net:\n",
    "        class_a2_networks.append(network)\n",
    "    elif network <= class_a3_ip_net:\n",
    "        class_a3_networks.append(network)\n",
    "    elif network <= class_a4_ip_net:\n",
    "        class_a1_networks.append(network)\n",
    "    elif network <= class_a5_ip_net:\n",
    "        class_a5_networks.append(network)\n",
    "    elif network <= class_a6_ip_net:\n",
    "        class_a6_networks.append(network)\n",
    "    elif network <= class_b0_ip_net:\n",
    "        class_b0_networks.append(network)\n",
    "    elif network <= class_b1_ip_net:\n",
    "        class_b1_networks.append(network)\n",
    "    elif network <= class_b2_ip_net:\n",
    "        class_b2_networks.append(network)\n",
    "    elif network <= class_b3_ip_net:\n",
    "        class_b3_networks.append(network)\n",
    "    elif network <= class_c0_ip_net:\n",
    "        class_c0_networks.append(network)\n",
    "    elif network <= class_c1_ip_net:\n",
    "        class_c1_networks.append(network)\n",
    "    elif network <= class_d0_ip_net:\n",
    "        class_d0_networks.append(network)\n",
    "    else:\n",
    "        class_e0_networks.append(network)"
   ]
  },
  {
   "cell_type": "code",
   "execution_count": 25,
   "id": "f59f0ffd-f484-476f-b550-8129cc13d0d0",
   "metadata": {},
   "outputs": [
    {
     "name": "stdout",
     "output_type": "stream",
     "text": [
      "Class A0 length: 93830\n",
      "Class A1 length: 890429\n",
      "Class A2 length: 206957\n",
      "Class A3 length: 184402\n",
      "Class A4 length: 0\n",
      "Class A5 length: 431566\n",
      "Class A6 length: 414770\n",
      "Class B0 length: 130724\n",
      "Class B1 length: 122148\n",
      "Class B2 length: 140293\n",
      "Class B3 length: 189817\n",
      "Class C0 length: 311872\n",
      "Class C1 length: 260636\n",
      "Class D0 length: 219573\n",
      "Class E0 length: 0\n"
     ]
    }
   ],
   "source": [
    "print(f'Class A0 length: {len(class_a0_networks)}')\n",
    "print(f'Class A1 length: {len(class_a1_networks)}')\n",
    "print(f'Class A2 length: {len(class_a2_networks)}')\n",
    "print(f'Class A3 length: {len(class_a3_networks)}')\n",
    "print(f'Class A4 length: {len(class_a4_networks)}')\n",
    "print(f'Class A5 length: {len(class_a5_networks)}')\n",
    "print(f'Class A6 length: {len(class_a6_networks)}')\n",
    "print(f'Class B0 length: {len(class_b0_networks)}')\n",
    "print(f'Class B1 length: {len(class_b1_networks)}')\n",
    "print(f'Class B2 length: {len(class_b2_networks)}')\n",
    "print(f'Class B3 length: {len(class_b3_networks)}')\n",
    "print(f'Class C0 length: {len(class_c0_networks)}')\n",
    "print(f'Class C1 length: {len(class_c1_networks)}')\n",
    "print(f'Class D0 length: {len(class_d0_networks)}')\n",
    "print(f'Class E0 length: {len(class_e0_networks)}')"
   ]
  },
  {
   "cell_type": "code",
   "execution_count": 26,
   "id": "8cb5fb51-1a6a-4037-833e-da01e693b671",
   "metadata": {},
   "outputs": [],
   "source": [
    "class_a0_address = []\n",
    "class_a1_address = []\n",
    "class_a2_address = []\n",
    "class_a3_address = []\n",
    "class_a4_address = []\n",
    "class_a5_address = []\n",
    "class_a6_address = []\n",
    "class_b0_address = []\n",
    "class_b1_address = []\n",
    "class_b2_address = []\n",
    "class_b3_address = []\n",
    "class_c0_address = []\n",
    "class_c1_address = []\n",
    "class_d0_address = []\n",
    "class_e0_address = []"
   ]
  },
  {
   "cell_type": "code",
   "execution_count": 29,
   "id": "115a1b1e-5367-4b9b-a436-982ea84bcbaa",
   "metadata": {
    "tags": []
   },
   "outputs": [],
   "source": [
    "for address in addy_list:\n",
    "    \n",
    "    if address < ipaddress.ip_address('17.0.0.0'):\n",
    "        class_a0_address.append(address)\n",
    "    elif address < ipaddress.ip_address('33.0.0.0'):\n",
    "        class_a1_address.append(address)\n",
    "    elif address < ipaddress.ip_address('49.0.0.0'):\n",
    "        class_a2_address.append(address)\n",
    "    elif address < ipaddress.ip_address('65.0.0.0'):\n",
    "        class_a3_address.append(address)\n",
    "    elif address < ipaddress.ip_address('81.0.0.0'):\n",
    "        class_a1_address.append(address)\n",
    "    elif address < ipaddress.ip_address('97.0.0.0'):\n",
    "        class_a5_address.append(address)\n",
    "    elif address < ipaddress.ip_address('113.0.0.0'):\n",
    "        class_a6_address.append(address)\n",
    "    elif address < ipaddress.ip_address('129.0.0.0'):\n",
    "        class_b0_address.append(address)\n",
    "    elif address < ipaddress.ip_address('145.0.0.0'):\n",
    "        class_b1_address.append(address)\n",
    "    elif address < ipaddress.ip_address('161.0.0.0'):\n",
    "        class_b2_address.append(address)\n",
    "    elif address < ipaddress.ip_address('177.0.0.0'):\n",
    "        class_b3_address.append(address)\n",
    "    elif address < ipaddress.ip_address('193.0.0.0'):\n",
    "        class_c0_address.append(address)\n",
    "    elif address < ipaddress.ip_address('209.0.0.0'):\n",
    "        class_c1_address.append(address)\n",
    "    elif address < ipaddress.ip_address('225.0.0.0'):\n",
    "        class_d0_address.append(address)\n",
    "    else:\n",
    "        class_e0_address.append(network)"
   ]
  },
  {
   "cell_type": "code",
   "execution_count": 30,
   "id": "62c51a27-80f4-4851-b6b9-a1e7edfcada5",
   "metadata": {},
   "outputs": [
    {
     "name": "stdout",
     "output_type": "stream",
     "text": [
      "Class A0 length: 77\n",
      "Class A1 length: 1535\n",
      "Class A2 length: 156\n",
      "Class A3 length: 105\n",
      "Class A4 length: 0\n",
      "Class A5 length: 194\n",
      "Class A6 length: 1318\n",
      "Class B0 length: 2\n",
      "Class B1 length: 190\n",
      "Class B2 length: 44\n",
      "Class B3 length: 1544\n",
      "Class C0 length: 126\n",
      "Class C1 length: 164\n",
      "Class D0 length: 76\n",
      "Class E0 length: 0\n"
     ]
    }
   ],
   "source": [
    "print(f'Class A0 length: {len(class_a0_address)}')\n",
    "print(f'Class A1 length: {len(class_a1_address)}')\n",
    "print(f'Class A2 length: {len(class_a2_address)}')\n",
    "print(f'Class A3 length: {len(class_a3_address)}')\n",
    "print(f'Class A4 length: {len(class_a4_address)}')\n",
    "print(f'Class A5 length: {len(class_a5_address)}')\n",
    "print(f'Class A6 length: {len(class_a6_address)}')\n",
    "print(f'Class B0 length: {len(class_b0_address)}')\n",
    "print(f'Class B1 length: {len(class_b1_address)}')\n",
    "print(f'Class B2 length: {len(class_b2_address)}')\n",
    "print(f'Class B3 length: {len(class_b3_address)}')\n",
    "print(f'Class C0 length: {len(class_c0_address)}')\n",
    "print(f'Class C1 length: {len(class_c1_address)}')\n",
    "print(f'Class D0 length: {len(class_d0_address)}')\n",
    "print(f'Class E0 length: {len(class_e0_address)}')"
   ]
  },
  {
   "cell_type": "markdown",
   "id": "c32b3ffa-b3bc-49e2-8f59-cc70731d7c01",
   "metadata": {},
   "source": [
    "### Create internal database\n",
    "- How to handle ip address versus network address?\n",
    "- Check subnet on network to see if smaller network exists for more precise location."
   ]
  },
  {
   "cell_type": "markdown",
   "id": "e188a9b6-e7d1-4af6-bdcc-627d2f7e4442",
   "metadata": {},
   "source": [
    "### Create function to check if ip is in internal database\n",
    "- Add function to append date, check if ip is >1 month old."
   ]
  },
  {
   "cell_type": "markdown",
   "id": "4ed15d41-ed06-4769-9a47-6b10132d06ed",
   "metadata": {},
   "source": [
    "### Create function to query external source < 900times / day\n",
    "- Top 500 and bottom 400 values counts.\n",
    "- Priority would be for new IPs, then ones >1 month old."
   ]
  },
  {
   "cell_type": "markdown",
   "id": "395afcf9-fa05-478a-89a6-1825f8d58c21",
   "metadata": {},
   "source": [
    "### Build a function for comparison:\n"
   ]
  },
  {
   "cell_type": "code",
   "execution_count": 15,
   "id": "fab79c27-a129-4e10-9392-8f73a1460608",
   "metadata": {},
   "outputs": [],
   "source": [
    "addy_file = \"curriculum_logs.csv\"\n",
    "\n",
    "def addy_giver(addy_file):\n",
    "    df = pd.read_csv(addy_file)\n",
    "    ip_addys = df.ip.unique()\n",
    "    ip_addys.sort()\n",
    "    for address in  ip_addys:\n",
    "        yield ipaddress.ip_address(address)\n",
    "        "
   ]
  },
  {
   "cell_type": "code",
   "execution_count": 16,
   "id": "65f2103e-cee4-48d4-a19a-776103568621",
   "metadata": {},
   "outputs": [],
   "source": [
    "#Try using more generators:\n",
    "gen_file = \"ipv4_networks.csv\"\n",
    "\n",
    "def network_giver(gen_file):\n",
    "    df = pd.read_csv(gen_file)\n",
    "    ip_networks = df.network\n",
    "    for network in  ip_networks:\n",
    "        yield ipaddress.ip_network(network)\n",
    "        "
   ]
  },
  {
   "cell_type": "code",
   "execution_count": 17,
   "id": "6a6ed643-4631-410b-9e9f-710810a22b11",
   "metadata": {
    "tags": []
   },
   "outputs": [
    {
     "data": {
      "text/plain": [
       "\"\\ni = 0\\nfor network in network_giver(gen_file):\\n    if address in network:\\n        print(f'{address.reverse_pointer} in {network} found.')\\n        break\\n    i += 1\\n    if i % 100_000 == 0:\\n        print(f'{i} networks searched.')\\n\""
      ]
     },
     "execution_count": 17,
     "metadata": {},
     "output_type": "execute_result"
    }
   ],
   "source": [
    "address = ipaddress.ip_address('174.197.2.198')\n",
    "\"\"\"\n",
    "i = 0\n",
    "for network in network_giver(gen_file):\n",
    "    if address in network:\n",
    "        print(f'{address.reverse_pointer} in {network} found.')\n",
    "        break\n",
    "    i += 1\n",
    "    if i % 100_000 == 0:\n",
    "        print(f'{i} networks searched.')\n",
    "\"\"\""
   ]
  },
  {
   "cell_type": "markdown",
   "id": "7e5d1aaa-e577-4327-a330-ef02b4511491",
   "metadata": {},
   "source": [
    "ChatGPT Code:\n"
   ]
  },
  {
   "cell_type": "markdown",
   "id": "2f7d02f1-a181-4aa8-bb78-65e22e3be555",
   "metadata": {},
   "source": [
    "gen_file = \"ipv4_networks.csv\"\n",
    "addy_file = \"curriculum_logs.csv\"\n"
   ]
  },
  {
   "cell_type": "code",
   "execution_count": 19,
   "id": "28140ff7-5669-464b-a82f-d973f140ad88",
   "metadata": {},
   "outputs": [],
   "source": [
    "def ip_details(ip):\n",
    "    \"\"\"\n",
    "    Uses ip2geotools to get information for ip addresses. Limited to 1000/day for the free tier.\n",
    "    \"\"\"\n",
    "    \n",
    "    res = DbIpCity.get(ip, api_key=\"free\")\n",
    "    output =  {\"ip\":res.ip_address, \n",
    "               \"city\": res.city, \n",
    "               \"region\":res.region,\n",
    "               \"country\":res.country,\n",
    "               \"latitude\":res.latitude,\n",
    "               \"longitude\": res.longitude}\n",
    "    return output"
   ]
  },
  {
   "cell_type": "markdown",
   "id": "08f5aeac-11b7-48d7-a39a-e4cc27816ebf",
   "metadata": {},
   "source": [
    "ip_list = []\n",
    "i = 0\n",
    "for item in ip_addys:\n",
    "ip_list.append(ip_details(item))\n",
    "i += 1\n",
    "if i % 10 == 0:\n",
    "print(f'{i} ip addresses resolved.')\n"
   ]
  },
  {
   "cell_type": "code",
   "execution_count": null,
   "id": "406cbc9b-50ed-4d8f-8fbf-e5cdc77b3254",
   "metadata": {},
   "outputs": [],
   "source": [
    "ip_list[-5:]"
   ]
  },
  {
   "cell_type": "markdown",
   "id": "6d74fbb5-6ca7-442e-bcb1-3c0c1e409f32",
   "metadata": {},
   "source": [
    "def csv_reader(file_path):\n",
    "with open(file_path, \"r\") as f:\n",
    "for row in f:\n",
    "yield row.strip()\n"
   ]
  },
  {
   "cell_type": "markdown",
   "id": "805ec8a7-4a56-4dd6-8d03-13bab1667224",
   "metadata": {},
   "source": [
    "def addy_giver(file_path):\n",
    "df = pd.read_csv(file_path)\n",
    "for address in df.ip.unique():\n",
    "yield ipaddress.ip_address(address)\n"
   ]
  },
  {
   "cell_type": "markdown",
   "id": "83bd9efd-c168-428f-8c43-cde418891eee",
   "metadata": {},
   "source": [
    "for network_str in csv_reader(gen_file):\n",
    "try:\n",
    "network = ipaddress.ip_network(network_str)\n",
    "except ValueError:\n",
    "continue\n",
    "addrs = set(addy_giver(addy_file))\n",
    "network_addrs = set(network.hosts())\n",
    "common_addrs = addrs.intersection(network_addrs)\n",
    "for dis_addy in common_addrs:\n",
    "print(f'{dis_addy} is in {network_str}')\n"
   ]
  },
  {
   "cell_type": "code",
   "execution_count": 17,
   "id": "2e4f7dce-2d44-457c-b4e0-38817703acde",
   "metadata": {
    "tags": []
   },
   "outputs": [
    {
     "data": {
      "text/plain": [
       "'\\ngen_file = \"ipv4_networks.csv\"\\naddy_file = \"curriculum_logs.csv\"\\n\\ndef csv_reader(file_path):\\n    with open(file_path, \"r\") as f:\\n        for row in f:\\n            yield row.strip()\\n\\ndef addy_giver(file_path):\\n    df = pd.read_csv(file_path)\\n    for address in df.ip.unique():\\n        try:\\n            yield ipaddress.ip_address(address)\\n        except ValueError:\\n            print(f\"Invalid IP address: {address}\")\\n\\nfor network_str in csv_reader(gen_file):\\n    try:\\n        network = ipaddress.ip_network(network_str)\\n    except ValueError:\\n        print(f\"Invalid network address: {network_str}\")\\n        continue\\n    addrs = set()\\n    for address in addy_giver(addy_file):\\n        try:\\n            addrs.add(address)\\n        except ValueError:\\n            print(f\"Invalid IP address: {address}\")\\n    network_addrs = set(network.hosts())\\n    common_addrs = addrs.intersection(network_addrs)\\n    for dis_addy in common_addrs:\\n        print(f\\'{dis_addy} is in {network_str}\\')\\n'"
      ]
     },
     "execution_count": 17,
     "metadata": {},
     "output_type": "execute_result"
    }
   ],
   "source": [
    "\"\"\"\n",
    "gen_file = \"ipv4_networks.csv\"\n",
    "addy_file = \"curriculum_logs.csv\"\n",
    "\n",
    "def csv_reader(file_path):\n",
    "    with open(file_path, \"r\") as f:\n",
    "        for row in f:\n",
    "            yield row.strip()\n",
    "\n",
    "def addy_giver(file_path):\n",
    "    df = pd.read_csv(file_path)\n",
    "    for address in df.ip.unique():\n",
    "        try:\n",
    "            yield ipaddress.ip_address(address)\n",
    "        except ValueError:\n",
    "            print(f\"Invalid IP address: {address}\")\n",
    "\n",
    "for network_str in csv_reader(gen_file):\n",
    "    try:\n",
    "        network = ipaddress.ip_network(network_str)\n",
    "    except ValueError:\n",
    "        print(f\"Invalid network address: {network_str}\")\n",
    "        continue\n",
    "    addrs = set()\n",
    "    for address in addy_giver(addy_file):\n",
    "        try:\n",
    "            addrs.add(address)\n",
    "        except ValueError:\n",
    "            print(f\"Invalid IP address: {address}\")\n",
    "    network_addrs = set(network.hosts())\n",
    "    common_addrs = addrs.intersection(network_addrs)\n",
    "    for dis_addy in common_addrs:\n",
    "        print(f'{dis_addy} is in {network_str}')\n",
    "\"\"\""
   ]
  },
  {
   "cell_type": "code",
   "execution_count": 18,
   "id": "dabf7924-bc8b-46d4-9203-eb923265ac9c",
   "metadata": {},
   "outputs": [],
   "source": [
    "gen_file = \"ipv4_networks.csv\"\n",
    "addy_file = \"curriculum_logs.csv\""
   ]
  },
  {
   "cell_type": "markdown",
   "id": "2e682f71-c601-4109-a4ff-8ff6ddde7c09",
   "metadata": {},
   "source": [
    "def csv_reader(file_path):\n",
    "with open(file_path, \"r\") as f:\n",
    "next(f) # skip the header row\n",
    "for row in f:\n",
    "columns = row.strip().split(\",\")\n",
    "try:\n",
    "yield columns[0] # extract the network address column\n",
    "except IndexError:\n",
    "pass\n"
   ]
  },
  {
   "cell_type": "markdown",
   "id": "74d8a13b-b72d-442c-84fb-809e0bd47b11",
   "metadata": {},
   "source": [
    "def addy_giver(file_path):\n",
    "df = pd.read_csv(file_path)\n",
    "for address in df.ip.unique():\n",
    "try:\n",
    "yield ipaddress.ip_address(address)\n",
    "except ValueError:\n",
    "print(f\"Invalid IP address: {address}\")\n"
   ]
  },
  {
   "cell_type": "markdown",
   "id": "ca1823e1-a4b2-4c59-b15b-8afbacbe4928",
   "metadata": {},
   "source": [
    "for network_str in csv_reader(gen_file):\n",
    "try:\n",
    "network = ipaddress.ip_network(network_str)\n",
    "except ValueError:\n",
    "print(f\"Invalid network address: {network_str}\")\n",
    "continue\n",
    "addrs = set()\n",
    "for address in addy_giver(addy_file):\n",
    "try:\n",
    "addrs.add(address)\n",
    "except ValueError:\n",
    "print(f\"Invalid IP address: {address}\")\n",
    "network_addrs = set(network.hosts())\n",
    "common_addrs = addrs.intersection(network_addrs)\n",
    "for dis_addy in common_addrs:\n",
    "print(f'{dis_addy} is in {network_str}')\n"
   ]
  },
  {
   "cell_type": "markdown",
   "id": "1a2884cd-4690-47b7-8d79-d14174bc1389",
   "metadata": {},
   "source": [
    "\n",
    "# Define a generator function to read the ipv4_networks.csv file\n",
    "def read_ipv4_networks():\n",
    "    with open('ipv4_networks.csv', 'r') as csvfile:\n",
    "        reader = csv.DictReader(csvfile)\n",
    "        for row in reader:\n",
    "            # Yield an IP network object for each row\n",
    "            yield ipaddress.ip_network(row['network'])\n",
    "\n",
    "# Define a generator function to read the curriculum_logs.csv file\n",
    "def read_curriculum_logs():\n",
    "    with open('curriculum_logs.csv', 'r') as csvfile:\n",
    "        reader = csv.DictReader(csvfile)\n",
    "        for row in reader:\n",
    "            # Yield an IP address object for each row\n",
    "            yield ipaddress.IPv4Address(row['ip'])\n",
    "\n",
    "# Use set intersection to find the IP addresses in both files\n",
    "matched_ips = set(read_ipv4_networks()).intersection(set(read_curriculum_logs()))\n",
    "\n",
    "# Print the matched IP addresses\n",
    "for ip in matched_ips:\n",
    "    print(ip)\n"
   ]
  },
  {
   "cell_type": "markdown",
   "id": "e0ec95c8-2173-4fa9-8119-e3bef3abf5a2",
   "metadata": {},
   "source": [
    "\n",
    "\n",
    "def load_networks(filename):\n",
    "    with open(filename) as f:\n",
    "        reader = csv.reader(f)\n",
    "        header = next(reader)\n",
    "        for row in reader:\n",
    "            network_str = row[0]\n",
    "            try:\n",
    "                network = ipaddress.IPv4Network(network_str)\n",
    "                pass\n",
    "                #yield network\n",
    "            except ValueError as e:\n",
    "                print(f\"Error: {e} on line {reader.line_num} with network {network_str}\")\n",
    "                continue\n",
    "\n",
    "def match_ips_to_networks(networks_filename, ips_filename):\n",
    "    networks = load_networks(networks_filename)\n",
    "\n",
    "    with open(ips_filename) as f:\n",
    "        reader = csv.reader(f)\n",
    "        header = next(reader)\n",
    "        for row in reader:\n",
    "            ip_str = row[5]\n",
    "            try:\n",
    "                ip = ipaddress.IPv4Address(ip_str)\n",
    "            except ValueError as e:\n",
    "                print(f\"Error: {e} on line {reader.line_num} with IP {ip_str}\")\n",
    "                continue\n",
    "            \n",
    "            matched = False\n",
    "            for network in networks:\n",
    "                if ip in network:\n",
    "                    matched = True\n",
    "                    print(f\"IP {ip_str} matches network {network}\")\n",
    "                    break\n",
    "            if not matched:\n",
    "                pass\n",
    "                #print(f\"IP {ip_str} does not match any network\")\n"
   ]
  },
  {
   "cell_type": "code",
   "execution_count": 33,
   "id": "5107048a-7916-44c2-a41b-4bdad3390df1",
   "metadata": {},
   "outputs": [],
   "source": [
    "gen_file = \"ipv4_networks.csv\"\n",
    "addy_file = \"curriculum_logs.csv\""
   ]
  },
  {
   "cell_type": "code",
   "execution_count": 34,
   "id": "cf51e3ef-f70a-4025-86e2-27a17661c407",
   "metadata": {
    "tags": []
   },
   "outputs": [
    {
     "ename": "TypeError",
     "evalue": "'NoneType' object is not iterable",
     "output_type": "error",
     "traceback": [
      "\u001b[0;31m---------------------------------------------------------------------------\u001b[0m",
      "\u001b[0;31mTypeError\u001b[0m                                 Traceback (most recent call last)",
      "\u001b[0;32m/var/folders/sg/9h_lqlfd6bgb63_prv2nr4mm0000gn/T/ipykernel_10476/3494390576.py\u001b[0m in \u001b[0;36m<module>\u001b[0;34m\u001b[0m\n\u001b[0;32m----> 1\u001b[0;31m \u001b[0mlist\u001b[0m\u001b[0;34m(\u001b[0m\u001b[0mload_networks\u001b[0m\u001b[0;34m(\u001b[0m\u001b[0mgen_file\u001b[0m\u001b[0;34m)\u001b[0m\u001b[0;34m)\u001b[0m\u001b[0;34m\u001b[0m\u001b[0;34m\u001b[0m\u001b[0m\n\u001b[0m",
      "\u001b[0;31mTypeError\u001b[0m: 'NoneType' object is not iterable"
     ]
    }
   ],
   "source": [
    "#list(load_networks(gen_file))"
   ]
  },
  {
   "cell_type": "code",
   "execution_count": 35,
   "id": "cc7eac44-5d2a-4b95-aa57-2a7d12029ad8",
   "metadata": {
    "tags": []
   },
   "outputs": [
    {
     "ename": "TypeError",
     "evalue": "'NoneType' object is not iterable",
     "output_type": "error",
     "traceback": [
      "\u001b[0;31m---------------------------------------------------------------------------\u001b[0m",
      "\u001b[0;31mTypeError\u001b[0m                                 Traceback (most recent call last)",
      "\u001b[0;32m/var/folders/sg/9h_lqlfd6bgb63_prv2nr4mm0000gn/T/ipykernel_10476/3952507667.py\u001b[0m in \u001b[0;36m<module>\u001b[0;34m\u001b[0m\n\u001b[0;32m----> 1\u001b[0;31m \u001b[0mmatch_ips_to_networks\u001b[0m\u001b[0;34m(\u001b[0m\u001b[0mgen_file\u001b[0m\u001b[0;34m,\u001b[0m \u001b[0maddy_file\u001b[0m\u001b[0;34m)\u001b[0m\u001b[0;34m\u001b[0m\u001b[0;34m\u001b[0m\u001b[0m\n\u001b[0m",
      "\u001b[0;32m/var/folders/sg/9h_lqlfd6bgb63_prv2nr4mm0000gn/T/ipykernel_10476/3174517993.py\u001b[0m in \u001b[0;36mmatch_ips_to_networks\u001b[0;34m(networks_filename, ips_filename)\u001b[0m\n\u001b[1;32m     28\u001b[0m \u001b[0;34m\u001b[0m\u001b[0m\n\u001b[1;32m     29\u001b[0m             \u001b[0mmatched\u001b[0m \u001b[0;34m=\u001b[0m \u001b[0;32mFalse\u001b[0m\u001b[0;34m\u001b[0m\u001b[0;34m\u001b[0m\u001b[0m\n\u001b[0;32m---> 30\u001b[0;31m             \u001b[0;32mfor\u001b[0m \u001b[0mnetwork\u001b[0m \u001b[0;32min\u001b[0m \u001b[0mnetworks\u001b[0m\u001b[0;34m:\u001b[0m\u001b[0;34m\u001b[0m\u001b[0;34m\u001b[0m\u001b[0m\n\u001b[0m\u001b[1;32m     31\u001b[0m                 \u001b[0;32mif\u001b[0m \u001b[0mip\u001b[0m \u001b[0;32min\u001b[0m \u001b[0mnetwork\u001b[0m\u001b[0;34m:\u001b[0m\u001b[0;34m\u001b[0m\u001b[0;34m\u001b[0m\u001b[0m\n\u001b[1;32m     32\u001b[0m                     \u001b[0mmatched\u001b[0m \u001b[0;34m=\u001b[0m \u001b[0;32mTrue\u001b[0m\u001b[0;34m\u001b[0m\u001b[0;34m\u001b[0m\u001b[0m\n",
      "\u001b[0;31mTypeError\u001b[0m: 'NoneType' object is not iterable"
     ]
    }
   ],
   "source": [
    "#match_ips_to_networks(gen_file, addy_file)"
   ]
  },
  {
   "cell_type": "markdown",
   "id": "452a9e3d-6364-4c8f-87b9-2513c0577b93",
   "metadata": {},
   "source": [
    "list_to_join = []\n",
    "\n",
    "for network in ipv4_df[\"network\"]:\n",
    "network = ipaddress.ip_network(network)\n",
    "for item in ip_addys:\n",
    "item = ipaddress.ip_address(item)\n",
    "\n",
    "        if item in network:\n",
    "            ip_dict = {'ip': item,\n",
    "                       'geoname_id': ipv4_df[ipv4_df[\"network\"] == network]['geoname_id']}\n",
    "            print('+')\n",
    "            list_to_join.append(ip_dict)\n",
    "\n"
   ]
  },
  {
   "cell_type": "markdown",
   "id": "98a7661a-a88a-45d1-9406-9ba821ea7b52",
   "metadata": {},
   "source": [
    "change to numpy?\n",
    "\n",
    "list_to_join = []\n",
    "\n",
    "for network in ipv4_df[:, 1]:\n",
    "network = ipaddress.ip_network(network)\n",
    "for item in ip_addys:\n",
    "item = ipaddress.ip_address(item)\n",
    "\n",
    "        if item in network:\n",
    "            ip_dict = {'ip': item,\n",
    "                       'geoname_id': ipv4_df[ipv4_df[\"network\"] == network]['geoname_id']} <--Unsure how\n",
    "            print('+')\n",
    "            list_to_join.append(ip_dict)\n",
    "\n"
   ]
  },
  {
   "cell_type": "markdown",
   "id": "80484925-9a4e-4fd8-81c9-cd7d100f0c5a",
   "metadata": {},
   "source": [
    "list_to_join = [{'ip': ipaddress.ip_address(item),'geoname_id': ipv4_df[ipv4_df[\"network\"] == ipaddress.ip_network(network)]['geoname_id']}\n",
    "for item in ip_addys['ip'] for network in ipv4_df[\"network\"] if ipaddress.ip_address(item) in ipaddress.ip_network(network)]\n"
   ]
  },
  {
   "cell_type": "markdown",
   "id": "c5eefe4b-b5e5-42b9-92e3-0b3af3e5a617",
   "metadata": {},
   "source": [
    "list_to_join = [{'ip': ipaddress.ip_address(item),'geoname_id': ipv4_df[ipv4_df[\"network\"] == ipaddress.ip_network(network)]['geoname_id']}\n",
    "for item in ip_addys['ip'] if not any(ipaddress.ip_address(item) in ipaddress.ip_network(network) for network in ipv4_df[\"network\"])]\n"
   ]
  },
  {
   "cell_type": "code",
   "execution_count": null,
   "id": "ea56a98f-1de2-47b3-9acb-3bbe3b80e087",
   "metadata": {},
   "outputs": [],
   "source": [
    "#df_ip = pd.DataFrame(list_to_join)                   "
   ]
  },
  {
   "cell_type": "code",
   "execution_count": null,
   "id": "abae860e-d53b-47af-be63-d6f0bc230478",
   "metadata": {},
   "outputs": [],
   "source": [
    "#df_ip.shape"
   ]
  },
  {
   "cell_type": "code",
   "execution_count": null,
   "id": "d1803c59-36ee-427b-8082-ca3a52f2af97",
   "metadata": {},
   "outputs": [],
   "source": [
    "#df_ip.to_csv(\"ip_to_geoname_id.csv\", index=False)\n"
   ]
  },
  {
   "cell_type": "code",
   "execution_count": null,
   "id": "076251f5-6b00-466e-bafc-5bd93520906b",
   "metadata": {},
   "outputs": [],
   "source": []
  }
 ],
 "metadata": {
  "kernelspec": {
   "display_name": "Python 3 (ipykernel)",
   "language": "python",
   "name": "python3"
  },
  "language_info": {
   "codemirror_mode": {
    "name": "ipython",
    "version": 3
   },
   "file_extension": ".py",
   "mimetype": "text/x-python",
   "name": "python",
   "nbconvert_exporter": "python",
   "pygments_lexer": "ipython3",
   "version": "3.9.15"
  },
  "vscode": {
   "interpreter": {
    "hash": "aee8b7b246df8f9039afb4144a1f6fd8d2ca17a180786b69acc140d282b71a49"
   }
  }
 },
 "nbformat": 4,
 "nbformat_minor": 5
}
