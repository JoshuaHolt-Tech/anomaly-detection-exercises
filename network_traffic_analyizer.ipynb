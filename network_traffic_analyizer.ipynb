{
 "cells": [
  {
   "cell_type": "code",
   "execution_count": 1,
   "id": "a360183b-6f38-4b46-a807-d8c5f3fc467b",
   "metadata": {},
   "outputs": [],
   "source": [
    "import scapy\n",
    "from scapy.all import sniff\n",
    "from collections import Counter\n",
    "import pandas as pd\n",
    "import socket"
   ]
  },
  {
   "cell_type": "code",
   "execution_count": 2,
   "id": "df2787aa-d51a-4f11-87c9-4b03926537e8",
   "metadata": {},
   "outputs": [],
   "source": [
    "sniffed_packets = sniff(count=100, filter=\"ip\")\n",
    "list_of_packets = []\n",
    "count = 0"
   ]
  },
  {
   "cell_type": "code",
   "execution_count": 3,
   "id": "e8d71219-16f0-4a96-8eab-12face35196f",
   "metadata": {},
   "outputs": [
    {
     "name": "stdout",
     "output_type": "stream",
     "text": [
      "Count: 10\n",
      "Count: 20\n",
      "Count: 30\n",
      "Count: 40\n",
      "Count: 50\n",
      "Count: 60\n",
      "Count: 70\n",
      "Count: 80\n",
      "Count: 90\n",
      "Count: 100\n"
     ]
    }
   ],
   "source": [
    "for packet in sniffed_packets:\n",
    "    if packet.haslayer('IP'):\n",
    "        try:\n",
    "            source_name = socket.gethostbyaddr(packet['IP'].src)\n",
    "        except socket.herror:\n",
    "            source_name = None\n",
    "        try:\n",
    "            destination_name = socket.gethostbyaddr(packet['IP'].dst)\n",
    "        except socket.herror:\n",
    "            destination_name = None\n",
    "        count += 1\n",
    "        if count % 10 == 0:\n",
    "            print(f\"Count: {count}\")\n",
    "        temp_dict = {\"source_IP\" : str(packet['IP'].src),\n",
    "                     \"source_name\": source_name,\n",
    "                     \"destination_IP\" : str(packet['IP'].dst),\n",
    "                     \"destination_name\":destination_name,\n",
    "                     \"payload\": str(packet['IP'].payload)}\n",
    "        list_of_packets.append(temp_dict)"
   ]
  },
  {
   "cell_type": "markdown",
   "id": "cac73c2c-4bbd-4a36-b386-98b8177d61ea",
   "metadata": {},
   "source": [
    "\n",
    "def sniff_me_some_packets():\n",
    "    sniffed_packets = sniff(count=100, filter=\"ip\")\n",
    "    list_of_packets = []\n",
    "    for packet in sniffed_packets:\n",
    "        if packet.haslayer('IP'):\n",
    "            try:\n",
    "                source_name = socket.gethostbyaddr(packet['IP'].src)\n",
    "            except socket.herror:\n",
    "                source_name = None\n",
    "            try:\n",
    "                destination_name = socket.gethostbyaddr(packet['IP'].dst)\n",
    "            except socket.herror:\n",
    "                destination_name = None\n",
    "                \n",
    "            temp_dict = {\"source_IP\" : str(packet['IP'].src),\n",
    "                         \"source_name\": source_name,\n",
    "                         \"destination_IP\" : str(packet['IP'].dst),\n",
    "                         \"destination_name\":destination_name,\n",
    "                         \"payload\": str(packet['IP'].payload)}\n",
    "            list_of_packets.append(temp_dict)\n",
    "    return list_of_packets\n"
   ]
  },
  {
   "cell_type": "code",
   "execution_count": 4,
   "id": "8d8031c7-715a-4660-885a-3b31d6352939",
   "metadata": {},
   "outputs": [],
   "source": [
    "#packets = sniff_me_some_packets()\n",
    "df = pd.DataFrame(list_of_packets)"
   ]
  },
  {
   "cell_type": "code",
   "execution_count": 5,
   "id": "e69bc98f-aa47-48f9-ba34-babdf730135c",
   "metadata": {},
   "outputs": [
    {
     "data": {
      "text/plain": [
       "(100, 5)"
      ]
     },
     "execution_count": 5,
     "metadata": {},
     "output_type": "execute_result"
    }
   ],
   "source": [
    "df.shape"
   ]
  },
  {
   "cell_type": "code",
   "execution_count": null,
   "id": "9d5b7769-3e4f-42ce-aba6-8c826d6612de",
   "metadata": {},
   "outputs": [],
   "source": []
  }
 ],
 "metadata": {
  "kernelspec": {
   "display_name": "Python 3 (ipykernel)",
   "language": "python",
   "name": "python3"
  },
  "language_info": {
   "codemirror_mode": {
    "name": "ipython",
    "version": 3
   },
   "file_extension": ".py",
   "mimetype": "text/x-python",
   "name": "python",
   "nbconvert_exporter": "python",
   "pygments_lexer": "ipython3",
   "version": "3.10.9"
  }
 },
 "nbformat": 4,
 "nbformat_minor": 5
}
