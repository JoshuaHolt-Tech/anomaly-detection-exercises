{
 "cells": [
  {
   "cell_type": "code",
   "execution_count": 1,
   "id": "a360183b-6f38-4b46-a807-d8c5f3fc467b",
   "metadata": {},
   "outputs": [],
   "source": [
    "import scapy\n",
    "from scapy.all import sniff, get_if_list, conf, Scapy_Exception\n",
    "from collections import Counter\n",
    "import pandas as pd\n",
    "import socket\n",
    "import os\n",
    "import time"
   ]
  },
  {
   "cell_type": "code",
   "execution_count": 2,
   "id": "9a53e682-2563-449e-9f22-3d8a35f22e4f",
   "metadata": {},
   "outputs": [],
   "source": [
    "pd.options.display.width = 100"
   ]
  },
  {
   "cell_type": "code",
   "execution_count": 3,
   "id": "2ec30211-fcf0-4115-9295-0fc0ed85f386",
   "metadata": {},
   "outputs": [],
   "source": [
    "#Docs say that sometimes Windows can't sniff Wifi, possibel fix is to set promisc= False or 0.\n",
    "conf.promisc = 0"
   ]
  },
  {
   "cell_type": "code",
   "execution_count": 4,
   "id": "a0705750-38f4-4392-aab7-6baf65997554",
   "metadata": {},
   "outputs": [
    {
     "name": "stdout",
     "output_type": "stream",
     "text": [
      "0\n"
     ]
    }
   ],
   "source": [
    "print(conf.promisc)"
   ]
  },
  {
   "cell_type": "code",
   "execution_count": 5,
   "id": "cf967f1c-e73f-4a90-9240-8c95e6f7629d",
   "metadata": {},
   "outputs": [],
   "source": [
    "#print(conf)"
   ]
  },
  {
   "cell_type": "code",
   "execution_count": 6,
   "id": "df2787aa-d51a-4f11-87c9-4b03926537e8",
   "metadata": {},
   "outputs": [],
   "source": [
    "def get_packets(interface = \"ethernet_0\", filename = \"sniff_cap0.csv\", count = 100, print_status = False, timeout=None):\n",
    "    \"\"\"\n",
    "    This function is designed to capture a number of ip packets to analyize with pandas.\n",
    "    \"\"\"\n",
    "    protocol_numbers = {1: \"ICMP\", 2: \"IGMP\", 6: \"TCP\", 17: \"UDP\", 41: \"IPv6\",\n",
    "                        47: \"GRE\", 50: \"ESP\", 51: \"AH\", 58: \"ICMPv6\", 89: \"OSPF\",\n",
    "                        103: \"PIM\", 132: \"SCTP\"}\n",
    "\n",
    "    #Checks if file exists\n",
    "    if os.path.isfile(filename):\n",
    "        df = pd.read_csv(filename)\n",
    "        return df\n",
    "    #Sniffs on all interfaces for 'count' number of ip packets\n",
    "    else:    \n",
    "        sniffed_packets = sniff(iface=interface, count=count, filter=\"ip\", timeout=timeout)\n",
    "        list_of_packets = []\n",
    "        i = 0\n",
    "\n",
    "        for packet in sniffed_packets:\n",
    "            if packet.haslayer('IP'):\n",
    "                try:\n",
    "                    source_name = socket.gethostbyaddr(packet['IP'].src)\n",
    "                except socket.herror:\n",
    "                    source_name = None\n",
    "                try:\n",
    "                    destination_name = socket.gethostbyaddr(packet['IP'].dst)\n",
    "                except socket.herror:\n",
    "                    destination_name = None\n",
    "                i += 1\n",
    "                #Keeps track of how many captures and prints to screen\n",
    "                if print_status == True:\n",
    "                    if i % (count/10) == 0:\n",
    "                        print(f\"Percent complete: {(i/count) * 100} %\")\n",
    "\n",
    "                #Collects the information into a dictionary for later use in Pandas\n",
    "                protocol_number = packet['IP'].proto\n",
    "                \n",
    "                temp_dict = {\"protocol_name\": protocol_numbers.get(protocol_number, \"Unknown\"),\n",
    "                             \"src_IP\" : str(packet[\"IP\"].src),\n",
    "                             \"src_name\": source_name,\n",
    "                             \"dst_IP\" : str(packet[\"IP\"].dst),\n",
    "                             \"dst_name\": destination_name,\n",
    "                             \"payload\": str(packet[\"IP\"].payload)}\n",
    "                if packet.haslayer('TCP'):\n",
    "                    temp_dict[\"source_port\"] = str(packet[\"TCP\"].sport)\n",
    "                    temp_dict[\"dst_port\"] = str(packet[\"TCP\"].dport)\n",
    "                    \n",
    "                elif packet.haslayer('UDP'):\n",
    "                    temp_dict[\"source_port\"] = str(packet[\"UDP\"].sport)\n",
    "                    temp_dict[\"dst_port\"] = str(packet[\"UDP\"].dport)\n",
    "\n",
    "                else:\n",
    "                    temp_dict[\"source_port\"] = None\n",
    "                    temp_dict[\"dst_port\"] = None\n",
    "                list_of_packets.append(temp_dict)\n",
    "                \n",
    "        df = pd.DataFrame(list_of_packets)\n",
    "        df.to_csv(filename, index=False)\n",
    "\n",
    "        return df"
   ]
  },
  {
   "cell_type": "code",
   "execution_count": 7,
   "id": "97789460-7fdf-4e49-80be-d554252cc679",
   "metadata": {},
   "outputs": [],
   "source": [
    "list_of_ifaces0 = get_if_list()"
   ]
  },
  {
   "cell_type": "code",
   "execution_count": 8,
   "id": "a33449d9-bff6-4d5a-82a3-6aa349d6d0c2",
   "metadata": {},
   "outputs": [],
   "source": [
    "#print(list_of_ifaces0)"
   ]
  },
  {
   "cell_type": "code",
   "execution_count": 9,
   "id": "d6ffe5af-7eb3-480a-81e6-4f27220bcbbe",
   "metadata": {},
   "outputs": [],
   "source": [
    "usable_ifaces = []"
   ]
  },
  {
   "cell_type": "code",
   "execution_count": 10,
   "id": "21037e51-8e6c-490c-a12b-74089dc756d6",
   "metadata": {},
   "outputs": [],
   "source": [
    "for iface in list_of_ifaces0:\n",
    "    try:\n",
    "        iface = iface.replace(\"{\", \"\").replace(\"}\", \"\")\n",
    "        #print(iface)\n",
    "        sniff(iface=iface, count=5, timeout=10)\n",
    "        usable_ifaces.append(iface)\n",
    "    except (OSError, Scapy_Exception) as e:  # Catch both OSError and Scapy_Exception\n",
    "        #print(f\"Error with interface {iface}: {e}\")\n",
    "        pass"
   ]
  },
  {
   "cell_type": "code",
   "execution_count": 11,
   "id": "d5206e70-479e-45a5-a816-20c55b40d8fe",
   "metadata": {},
   "outputs": [],
   "source": [
    "#print(usable_ifaces)"
   ]
  },
  {
   "cell_type": "code",
   "execution_count": 12,
   "id": "efb7877b-87ba-45c4-9edc-be12cd24722b",
   "metadata": {},
   "outputs": [
    {
     "name": "stdout",
     "output_type": "stream",
     "text": [
      "Interface: \\Device\\NPF_Loopback and sniff number: 0 with 100 packets.\n",
      "-----------------------------------------------------------\n",
      "Usable interfaces: 1\n"
     ]
    }
   ],
   "source": [
    "i = 0\n",
    "for item in usable_ifaces:\n",
    "    sniffer = get_packets(interface=str(item), filename = f\"sniff_{i}.csv\", timeout=60)\n",
    "    #print(sniffer['src_port'].value_counts().head(3))\n",
    "    #print(sniffer['dst_port'].value_counts().head(3))\n",
    "    print(f\"Interface: {item} and sniff number: {i} with {len(sniffer)} packets.\")\n",
    "    print(\"-----------------------------------------------------------\")\n",
    "    i+= 1\n",
    "print(f\"Usable interfaces: {i}\")"
   ]
  },
  {
   "cell_type": "code",
   "execution_count": 13,
   "id": "31f04a65-30cd-4f5d-8923-2c521c943ea9",
   "metadata": {},
   "outputs": [
    {
     "name": "stdout",
     "output_type": "stream",
     "text": [
      "TCP    100\n",
      "Name: protocol_name, dtype: int64\n"
     ]
    }
   ],
   "source": [
    "for item in range(0,i):\n",
    "    df = pd.read_csv(f\"sniff_{item}.csv\")\n",
    "    print(df[\"protocol_name\"].value_counts())"
   ]
  },
  {
   "cell_type": "code",
   "execution_count": 14,
   "id": "76731364-a4e4-4701-a7a7-bf7b5a512281",
   "metadata": {},
   "outputs": [],
   "source": [
    "time.sleep(15)"
   ]
  },
  {
   "cell_type": "code",
   "execution_count": 15,
   "id": "8ac4b0a6-474c-47c3-93ff-b3ec8ef7b20f",
   "metadata": {},
   "outputs": [],
   "source": [
    "#Cleaning up afterwards\n",
    "for num in range(i):\n",
    "    os.remove(f\"sniff_{num}.csv\")"
   ]
  },
  {
   "cell_type": "code",
   "execution_count": null,
   "id": "66ac646c-dba9-42a9-8006-a27081350fdd",
   "metadata": {},
   "outputs": [],
   "source": []
  },
  {
   "cell_type": "code",
   "execution_count": null,
   "id": "7f3edff8-e438-4fd1-b85e-351c2186bb04",
   "metadata": {},
   "outputs": [],
   "source": []
  }
 ],
 "metadata": {
  "kernelspec": {
   "display_name": "Python 3 (ipykernel)",
   "language": "python",
   "name": "python3"
  },
  "language_info": {
   "codemirror_mode": {
    "name": "ipython",
    "version": 3
   },
   "file_extension": ".py",
   "mimetype": "text/x-python",
   "name": "python",
   "nbconvert_exporter": "python",
   "pygments_lexer": "ipython3",
   "version": "3.10.9"
  }
 },
 "nbformat": 4,
 "nbformat_minor": 5
}
