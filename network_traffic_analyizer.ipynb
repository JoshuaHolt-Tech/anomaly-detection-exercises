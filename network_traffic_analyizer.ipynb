{
 "cells": [
  {
   "cell_type": "code",
   "execution_count": 1,
   "id": "a360183b-6f38-4b46-a807-d8c5f3fc467b",
   "metadata": {},
   "outputs": [],
   "source": [
    "import scapy\n",
    "from scapy.all import sniff\n",
    "from collections import Counter"
   ]
  },
  {
   "cell_type": "code",
   "execution_count": 2,
   "id": "cb8b9533-376c-49ae-ab25-8c2aef35607f",
   "metadata": {},
   "outputs": [
    {
     "name": "stdout",
     "output_type": "stream",
     "text": [
      "Ether / IPv6 / TCP 2600:4040:402f:ac00:b99a:8e6:968a:3cad:34096 > 2606:4700::6812:17d2:https A / Raw\n",
      "Ether / IPv6 / TCP 2606:4700::6812:17d2:https > 2600:4040:402f:ac00:b99a:8e6:968a:3cad:34096 A\n",
      "Ether / IPv6 / UDP 2600:4040:402f:ac00:b99a:8e6:968a:3cad:56415 > 2606:4700::6812:3a1:https / Raw\n",
      "Ether / IPv6 / UDP 2600:4040:402f:ac00:b99a:8e6:968a:3cad:56415 > 2606:4700::6812:3a1:https / Raw\n",
      "Ether / IPv6 / UDP 2600:4040:402f:ac00:b99a:8e6:968a:3cad:56415 > 2606:4700::6812:3a1:https / Raw\n",
      "Ether / IPv6 / UDP 2600:4040:402f:ac00:b99a:8e6:968a:3cad:56415 > 2606:4700::6812:3a1:https / Raw\n",
      "Ether / IPv6 / UDP 2606:4700::6812:3a1:https > 2600:4040:402f:ac00:b99a:8e6:968a:3cad:56415 / Raw\n",
      "Ether / IP / TCP 52.86.220.33:https > 192.168.1.158:34217 PA / Raw\n",
      "Ether / IP / TCP 192.168.1.158:34217 > 52.86.220.33:https A\n",
      "Ether / IPv6 / UDP 2606:4700::6812:3a1:https > 2600:4040:402f:ac00:b99a:8e6:968a:3cad:56415 / Raw\n"
     ]
    },
    {
     "data": {
      "text/plain": [
       "<Sniffed: TCP:4 UDP:6 ICMP:0 Other:0>"
      ]
     },
     "execution_count": 2,
     "metadata": {},
     "output_type": "execute_result"
    }
   ],
   "source": [
    "def handle_packet(packet):\n",
    "    \"\"\"\n",
    "    Function to run on each packet.\n",
    "    \"\"\"\n",
    "    print(packet.summary())\n",
    "\n",
    "sniff(prn=handle_packet, count=10)"
   ]
  },
  {
   "cell_type": "code",
   "execution_count": 3,
   "id": "07d26ea3-922c-43f1-99d3-75604d38b6ab",
   "metadata": {},
   "outputs": [],
   "source": [
    "def handle_packet0(packet):\n",
    "    print(f\"Source: {packet[IP].src}, Destination: {pacet[IP].dst}, Protocol: {packet[IP],proto}, Length: {len(packet)}\")"
   ]
  },
  {
   "cell_type": "code",
   "execution_count": 4,
   "id": "5dec8f72-d68b-49f2-b559-344d55d19608",
   "metadata": {},
   "outputs": [],
   "source": [
    "ip_counter = Counter()\n",
    "\n",
    "def handle_packet1(packet):\n",
    "    ip_counter[packet[IP].src] += 1\n",
    "    ip_counter[packet[IP].dst] += 1"
   ]
  },
  {
   "cell_type": "code",
   "execution_count": null,
   "id": "0ced3053-fb35-4e1f-aa74-35205e4bc4a6",
   "metadata": {},
   "outputs": [],
   "source": []
  }
 ],
 "metadata": {
  "kernelspec": {
   "display_name": "Python 3 (ipykernel)",
   "language": "python",
   "name": "python3"
  },
  "language_info": {
   "codemirror_mode": {
    "name": "ipython",
    "version": 3
   },
   "file_extension": ".py",
   "mimetype": "text/x-python",
   "name": "python",
   "nbconvert_exporter": "python",
   "pygments_lexer": "ipython3",
   "version": "3.10.9"
  }
 },
 "nbformat": 4,
 "nbformat_minor": 5
}
