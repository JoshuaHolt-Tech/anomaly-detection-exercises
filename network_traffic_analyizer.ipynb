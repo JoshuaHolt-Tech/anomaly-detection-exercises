{
 "cells": [
  {
   "cell_type": "code",
   "execution_count": 1,
   "id": "a360183b-6f38-4b46-a807-d8c5f3fc467b",
   "metadata": {},
   "outputs": [],
   "source": [
    "import scapy\n",
    "from scapy.all import sniff\n",
    "from collections import Counter\n",
    "import pandas as pd"
   ]
  },
  {
   "cell_type": "code",
   "execution_count": 2,
   "id": "0ced3053-fb35-4e1f-aa74-35205e4bc4a6",
   "metadata": {},
   "outputs": [],
   "source": [
    "\n",
    "def sniff_me_some_packets():\n",
    "    sniffed_packets = sniff(count=10000, filter=\"ip\")\n",
    "    list_of_packets = []\n",
    "    for packet in sniffed_packets:\n",
    "        if packet.haslayer('IP'):\n",
    "            temp_dict = {\"source_IP\" : str(packet['IP'].src),\n",
    "                         \"destination_IP\" : str(packet['IP'].dst),\n",
    "                         \"payload\": str(packet['IP'].payload)}\n",
    "            list_of_packets.append(temp_dict)\n",
    "    return list_of_packets\n"
   ]
  },
  {
   "cell_type": "code",
   "execution_count": 3,
   "id": "8d8031c7-715a-4660-885a-3b31d6352939",
   "metadata": {},
   "outputs": [],
   "source": [
    "packets = sniff_me_some_packets()\n",
    "df = pd.DataFrame(packets)"
   ]
  },
  {
   "cell_type": "code",
   "execution_count": 4,
   "id": "e69bc98f-aa47-48f9-ba34-babdf730135c",
   "metadata": {},
   "outputs": [
    {
     "data": {
      "text/plain": [
       "(8631, 3)"
      ]
     },
     "execution_count": 4,
     "metadata": {},
     "output_type": "execute_result"
    }
   ],
   "source": [
    "df.shape"
   ]
  },
  {
   "cell_type": "code",
   "execution_count": 5,
   "id": "5028c563-d5de-4ce9-a0cc-f51015610a55",
   "metadata": {},
   "outputs": [
    {
     "data": {
      "text/html": [
       "<div>\n",
       "<style scoped>\n",
       "    .dataframe tbody tr th:only-of-type {\n",
       "        vertical-align: middle;\n",
       "    }\n",
       "\n",
       "    .dataframe tbody tr th {\n",
       "        vertical-align: top;\n",
       "    }\n",
       "\n",
       "    .dataframe thead th {\n",
       "        text-align: right;\n",
       "    }\n",
       "</style>\n",
       "<table border=\"1\" class=\"dataframe\">\n",
       "  <thead>\n",
       "    <tr style=\"text-align: right;\">\n",
       "      <th></th>\n",
       "      <th>source IP</th>\n",
       "      <th>destination IP</th>\n",
       "      <th>payload</th>\n",
       "    </tr>\n",
       "  </thead>\n",
       "  <tbody>\n",
       "    <tr>\n",
       "      <th>0</th>\n",
       "      <td>192.168.1.158</td>\n",
       "      <td>239.255.255.250</td>\n",
       "      <td>UDP 192.168.1.158:56730 &gt; 239.255.255.250:ssdp...</td>\n",
       "    </tr>\n",
       "    <tr>\n",
       "      <th>1</th>\n",
       "      <td>192.168.1.158</td>\n",
       "      <td>35.227.255.136</td>\n",
       "      <td>TCP 192.168.1.158:10787 &gt; 35.227.255.136:https...</td>\n",
       "    </tr>\n",
       "    <tr>\n",
       "      <th>2</th>\n",
       "      <td>35.227.255.136</td>\n",
       "      <td>192.168.1.158</td>\n",
       "      <td>TCP 35.227.255.136:https &gt; 192.168.1.158:10787 A</td>\n",
       "    </tr>\n",
       "    <tr>\n",
       "      <th>3</th>\n",
       "      <td>192.168.1.158</td>\n",
       "      <td>162.254.192.75</td>\n",
       "      <td>TCP 192.168.1.158:6914 &gt; 162.254.192.75:27033 ...</td>\n",
       "    </tr>\n",
       "    <tr>\n",
       "      <th>4</th>\n",
       "      <td>162.254.192.75</td>\n",
       "      <td>192.168.1.158</td>\n",
       "      <td>TCP 162.254.192.75:27033 &gt; 192.168.1.158:6914 A</td>\n",
       "    </tr>\n",
       "  </tbody>\n",
       "</table>\n",
       "</div>"
      ],
      "text/plain": [
       "        source IP   destination IP  \\\n",
       "0   192.168.1.158  239.255.255.250   \n",
       "1   192.168.1.158   35.227.255.136   \n",
       "2  35.227.255.136    192.168.1.158   \n",
       "3   192.168.1.158   162.254.192.75   \n",
       "4  162.254.192.75    192.168.1.158   \n",
       "\n",
       "                                             payload  \n",
       "0  UDP 192.168.1.158:56730 > 239.255.255.250:ssdp...  \n",
       "1  TCP 192.168.1.158:10787 > 35.227.255.136:https...  \n",
       "2   TCP 35.227.255.136:https > 192.168.1.158:10787 A  \n",
       "3  TCP 192.168.1.158:6914 > 162.254.192.75:27033 ...  \n",
       "4    TCP 162.254.192.75:27033 > 192.168.1.158:6914 A  "
      ]
     },
     "execution_count": 5,
     "metadata": {},
     "output_type": "execute_result"
    }
   ],
   "source": [
    "df.head()"
   ]
  },
  {
   "cell_type": "code",
   "execution_count": null,
   "id": "88294153-1815-44f5-bf64-966544dc67cb",
   "metadata": {},
   "outputs": [],
   "source": []
  }
 ],
 "metadata": {
  "kernelspec": {
   "display_name": "Python 3 (ipykernel)",
   "language": "python",
   "name": "python3"
  },
  "language_info": {
   "codemirror_mode": {
    "name": "ipython",
    "version": 3
   },
   "file_extension": ".py",
   "mimetype": "text/x-python",
   "name": "python",
   "nbconvert_exporter": "python",
   "pygments_lexer": "ipython3",
   "version": "3.10.9"
  }
 },
 "nbformat": 4,
 "nbformat_minor": 5
}
