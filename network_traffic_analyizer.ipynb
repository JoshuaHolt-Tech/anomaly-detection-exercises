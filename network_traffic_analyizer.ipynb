{
 "cells": [
  {
   "cell_type": "code",
   "execution_count": 1,
   "id": "a360183b-6f38-4b46-a807-d8c5f3fc467b",
   "metadata": {},
   "outputs": [],
   "source": [
    "import scapy\n",
    "from scapy.all import sniff\n",
    "from collections import Counter\n",
    "import pandas as pd\n",
    "import socket\n",
    "import os"
   ]
  },
  {
   "cell_type": "code",
   "execution_count": 2,
   "id": "9a53e682-2563-449e-9f22-3d8a35f22e4f",
   "metadata": {},
   "outputs": [],
   "source": [
    "pd.options.display.width = 100"
   ]
  },
  {
   "cell_type": "code",
   "execution_count": 3,
   "id": "df2787aa-d51a-4f11-87c9-4b03926537e8",
   "metadata": {},
   "outputs": [],
   "source": [
    "def get_packets(filename = \"sniff_cap.csv\", count = 100, print_status = False):\n",
    "    \"\"\"\n",
    "    This function is designed to capture a number of ip packets to analyize with pandas.\n",
    "    \"\"\"\n",
    "    #Checks if file exists\n",
    "    if os.path.isfile(filename):\n",
    "        df = pd.read_csv(filename)\n",
    "        return df\n",
    "    #Sniffs on all interfaces for 'count' number of ip packets\n",
    "    else:    \n",
    "        sniffed_packets = sniff(count=count, filter=\"ip\")\n",
    "        list_of_packets = []\n",
    "        i = 0\n",
    "\n",
    "        for packet in sniffed_packets:\n",
    "            if packet.haslayer('IP'):\n",
    "                try:\n",
    "                    source_name = socket.gethostbyaddr(packet['IP'].src)\n",
    "                except socket.herror:\n",
    "                    source_name = None\n",
    "                try:\n",
    "                    destination_name = socket.gethostbyaddr(packet['IP'].dst)\n",
    "                except socket.herror:\n",
    "                    destination_name = None\n",
    "                i += 1\n",
    "                #Keeps track of how many captures and prints to screen\n",
    "                if print_status == True:\n",
    "                    if i % (count/10) == 0:\n",
    "                        print(f\"Percent complete: {(i/count) * 100} %\")\n",
    "                temp_dict = {\"source_IP\" : str(packet['IP'].src),\n",
    "                             \"source_name\": source_name,\n",
    "                             \"destination_IP\" : str(packet['IP'].dst),\n",
    "                             \"destination_name\":destination_name,\n",
    "                             \"payload\": str(packet['IP'].payload)}\n",
    "                list_of_packets.append(temp_dict)\n",
    "        df = pd.DataFrame(list_of_packets)\n",
    "        df.to_csv(filename, index=False)\n",
    "\n",
    "        return df"
   ]
  },
  {
   "cell_type": "code",
   "execution_count": 4,
   "id": "e8d71219-16f0-4a96-8eab-12face35196f",
   "metadata": {},
   "outputs": [
    {
     "name": "stdout",
     "output_type": "stream",
     "text": [
      "Percent complete: 10.0 %\n",
      "Percent complete: 20.0 %\n",
      "Percent complete: 30.0 %\n",
      "Percent complete: 40.0 %\n",
      "Percent complete: 50.0 %\n",
      "Percent complete: 60.0 %\n",
      "Percent complete: 70.0 %\n",
      "Percent complete: 80.0 %\n",
      "Percent complete: 90.0 %\n",
      "Percent complete: 100.0 %\n"
     ]
    }
   ],
   "source": [
    "df = get_packets(print_status=True)"
   ]
  },
  {
   "cell_type": "code",
   "execution_count": 5,
   "id": "5a313795-afed-4c99-8241-2cc3cc3e3165",
   "metadata": {},
   "outputs": [],
   "source": [
    "#socket.if_nameindex()"
   ]
  },
  {
   "cell_type": "code",
   "execution_count": 6,
   "id": "2c65b66c-d1b7-49d0-92e2-00bcd2412eea",
   "metadata": {},
   "outputs": [],
   "source": [
    "#for item in df.source_name:\n",
    "    #print(item)"
   ]
  },
  {
   "cell_type": "code",
   "execution_count": 7,
   "id": "8ac4b0a6-474c-47c3-93ff-b3ec8ef7b20f",
   "metadata": {},
   "outputs": [
    {
     "data": {
      "text/plain": [
       "(100, 5)"
      ]
     },
     "execution_count": 7,
     "metadata": {},
     "output_type": "execute_result"
    }
   ],
   "source": [
    "df.shape"
   ]
  },
  {
   "cell_type": "code",
   "execution_count": null,
   "id": "66ac646c-dba9-42a9-8006-a27081350fdd",
   "metadata": {},
   "outputs": [],
   "source": []
  }
 ],
 "metadata": {
  "kernelspec": {
   "display_name": "Python 3 (ipykernel)",
   "language": "python",
   "name": "python3"
  },
  "language_info": {
   "codemirror_mode": {
    "name": "ipython",
    "version": 3
   },
   "file_extension": ".py",
   "mimetype": "text/x-python",
   "name": "python",
   "nbconvert_exporter": "python",
   "pygments_lexer": "ipython3",
   "version": "3.10.9"
  }
 },
 "nbformat": 4,
 "nbformat_minor": 5
}
